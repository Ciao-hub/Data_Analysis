{
 "cells": [
  {
   "cell_type": "code",
   "execution_count": 1,
   "id": "0c8f5462",
   "metadata": {},
   "outputs": [
    {
     "name": "stdout",
     "output_type": "stream",
     "text": [
      "[0 1 2 3 4 5 6 7 8 9]\n"
     ]
    }
   ],
   "source": [
    "import numpy as np\n",
    "a  = np.arange(10)\n",
    "print(a)"
   ]
  },
  {
   "cell_type": "markdown",
   "id": "04d9680b",
   "metadata": {},
   "source": [
    "### Print(\"Hello World!)"
   ]
  },
  {
   "cell_type": "code",
   "execution_count": 2,
   "id": "ae4ab6af",
   "metadata": {},
   "outputs": [],
   "source": [
    "a = 10\n",
    "b = 5"
   ]
  },
  {
   "cell_type": "code",
   "execution_count": 3,
   "id": "323845c9",
   "metadata": {},
   "outputs": [
    {
     "name": "stdout",
     "output_type": "stream",
     "text": [
      "2.0\n"
     ]
    }
   ],
   "source": [
    "c = a/b\n",
    "print(c)\n",
    "b = 0"
   ]
  },
  {
   "cell_type": "markdown",
   "id": "190324b2",
   "metadata": {},
   "source": [
    "1. 打开Jupyter Notebook的方式：先打开anaconda prompt，然后进入项目所在路径\n",
    "2. 快捷方式\n",
    "3. Jupyter notebook的运行原理是把所有运行了的变量储存在内存中"
   ]
  }
 ],
 "metadata": {
  "kernelspec": {
   "display_name": "Python 3",
   "language": "python",
   "name": "python3"
  },
  "language_info": {
   "codemirror_mode": {
    "name": "ipython",
    "version": 3
   },
   "file_extension": ".py",
   "mimetype": "text/x-python",
   "name": "python",
   "nbconvert_exporter": "python",
   "pygments_lexer": "ipython3",
   "version": "3.8.8"
  }
 },
 "nbformat": 4,
 "nbformat_minor": 5
}
