{
 "cells": [
  {
   "cell_type": "code",
   "execution_count": 1,
   "id": "28b98e94",
   "metadata": {},
   "outputs": [],
   "source": [
    "import seaborn as sns\n",
    "import matplotlib.pyplot as plt\n",
    "import numpy as np"
   ]
  },
  {
   "cell_type": "code",
   "execution_count": 3,
   "id": "42488fbb",
   "metadata": {},
   "outputs": [
    {
     "data": {
      "text/html": [
       "<div>\n",
       "<style scoped>\n",
       "    .dataframe tbody tr th:only-of-type {\n",
       "        vertical-align: middle;\n",
       "    }\n",
       "\n",
       "    .dataframe tbody tr th {\n",
       "        vertical-align: top;\n",
       "    }\n",
       "\n",
       "    .dataframe thead th {\n",
       "        text-align: right;\n",
       "    }\n",
       "</style>\n",
       "<table border=\"1\" class=\"dataframe\">\n",
       "  <thead>\n",
       "    <tr style=\"text-align: right;\">\n",
       "      <th></th>\n",
       "      <th>method</th>\n",
       "      <th>number</th>\n",
       "      <th>orbital_period</th>\n",
       "      <th>mass</th>\n",
       "      <th>distance</th>\n",
       "      <th>year</th>\n",
       "    </tr>\n",
       "  </thead>\n",
       "  <tbody>\n",
       "    <tr>\n",
       "      <th>0</th>\n",
       "      <td>Radial Velocity</td>\n",
       "      <td>1</td>\n",
       "      <td>269.300</td>\n",
       "      <td>7.10</td>\n",
       "      <td>77.40</td>\n",
       "      <td>2006</td>\n",
       "    </tr>\n",
       "    <tr>\n",
       "      <th>1</th>\n",
       "      <td>Radial Velocity</td>\n",
       "      <td>1</td>\n",
       "      <td>874.774</td>\n",
       "      <td>2.21</td>\n",
       "      <td>56.95</td>\n",
       "      <td>2008</td>\n",
       "    </tr>\n",
       "    <tr>\n",
       "      <th>2</th>\n",
       "      <td>Radial Velocity</td>\n",
       "      <td>1</td>\n",
       "      <td>763.000</td>\n",
       "      <td>2.60</td>\n",
       "      <td>19.84</td>\n",
       "      <td>2011</td>\n",
       "    </tr>\n",
       "    <tr>\n",
       "      <th>3</th>\n",
       "      <td>Radial Velocity</td>\n",
       "      <td>1</td>\n",
       "      <td>326.030</td>\n",
       "      <td>19.40</td>\n",
       "      <td>110.62</td>\n",
       "      <td>2007</td>\n",
       "    </tr>\n",
       "    <tr>\n",
       "      <th>4</th>\n",
       "      <td>Radial Velocity</td>\n",
       "      <td>1</td>\n",
       "      <td>516.220</td>\n",
       "      <td>10.50</td>\n",
       "      <td>119.47</td>\n",
       "      <td>2009</td>\n",
       "    </tr>\n",
       "  </tbody>\n",
       "</table>\n",
       "</div>"
      ],
      "text/plain": [
       "            method  number  orbital_period   mass  distance  year\n",
       "0  Radial Velocity       1         269.300   7.10     77.40  2006\n",
       "1  Radial Velocity       1         874.774   2.21     56.95  2008\n",
       "2  Radial Velocity       1         763.000   2.60     19.84  2011\n",
       "3  Radial Velocity       1         326.030  19.40    110.62  2007\n",
       "4  Radial Velocity       1         516.220  10.50    119.47  2009"
      ]
     },
     "execution_count": 3,
     "metadata": {},
     "output_type": "execute_result"
    }
   ],
   "source": [
    "planets = sns.load_dataset('planets')\n",
    "planets.head()"
   ]
  },
  {
   "cell_type": "code",
   "execution_count": 12,
   "id": "e34f073e",
   "metadata": {},
   "outputs": [
    {
     "data": {
      "text/plain": [
       "<AxesSubplot:xlabel='year', ylabel='distance'>"
      ]
     },
     "execution_count": 12,
     "metadata": {},
     "output_type": "execute_result"
    },
    {
     "data": {
      "image/png": "[encoded data removed]",
      "text/plain": [
       "<Figure size 864x360 with 1 Axes>"
      ]
     },
     "metadata": {
      "needs_background": "light"
     },
     "output_type": "display_data"
    }
   ],
   "source": [
    "plt.figure(figsize = (12,5))\n",
    "sns.barplot(x = 'year', y = 'distance', data = planets,ci = None,\n",
    "           palette = sns.color_palette('hls',n_colors = 23))"
   ]
  },
  {
   "cell_type": "code",
   "execution_count": 15,
   "id": "1445bcc0",
   "metadata": {},
   "outputs": [
    {
     "data": {
      "image/png": "[encoded data removed]",
      "text/plain": [
       "<Figure size 1080x72 with 1 Axes>"
      ]
     },
     "metadata": {
      "needs_background": "light"
     },
     "output_type": "display_data"
    }
   ],
   "source": [
    "current_palette = sns.color_palette(n_colors = 15)\n",
    "sns.palplot(current_palette)  # 10个不同的颜色"
   ]
  },
  {
   "cell_type": "markdown",
   "id": "9a37f16d",
   "metadata": {},
   "source": [
    "**hls圆形颜色系统**"
   ]
  },
  {
   "cell_type": "code",
   "execution_count": 17,
   "id": "b66333fc",
   "metadata": {},
   "outputs": [
    {
     "data": {
      "image/png": "[encoded data removed]",
      "text/plain": [
       "<Figure size 14400x72 with 1 Axes>"
      ]
     },
     "metadata": {
      "needs_background": "light"
     },
     "output_type": "display_data"
    }
   ],
   "source": [
    "sns.palplot(sns.color_palette('hls',200))"
   ]
  },
  {
   "cell_type": "markdown",
   "id": "ba1b289a",
   "metadata": {},
   "source": [
    "**分类颜色**"
   ]
  },
  {
   "cell_type": "code",
   "execution_count": 18,
   "id": "c708d818",
   "metadata": {},
   "outputs": [
    {
     "data": {
      "image/png": "[encoded data removed]",
      "text/plain": [
       "<Figure size 864x72 with 1 Axes>"
      ]
     },
     "metadata": {
      "needs_background": "light"
     },
     "output_type": "display_data"
    }
   ],
   "source": [
    "sns.palplot(sns.color_palette('Paired'))"
   ]
  },
  {
   "cell_type": "code",
   "execution_count": 20,
   "id": "d1bab33e",
   "metadata": {
    "scrolled": true
   },
   "outputs": [
    {
     "data": {
      "application/vnd.jupyter.widget-view+json": {
       "model_id": "88357f8b9b604c1ebb70482578a517a4",
       "version_major": 2,
       "version_minor": 0
      },
      "text/plain": [
       "interactive(children=(Dropdown(description='name', options=('Set1', 'Set2', 'Set3', 'Paired', 'Accent', 'Paste…"
      ]
     },
     "metadata": {},
     "output_type": "display_data"
    },
    {
     "data": {
      "text/plain": [
       "[(0.8941176470588235, 0.10196078431372557, 0.10980392156862737),\n",
       " (0.21568627450980393, 0.4941176470588236, 0.7215686274509804),\n",
       " (0.3019607843137256, 0.6862745098039216, 0.29019607843137263),\n",
       " (0.5960784313725492, 0.3058823529411765, 0.6392156862745098),\n",
       " (1.0, 0.4980392156862745, 0.0),\n",
       " (0.9999999999999998, 1.0, 0.19999999999999996),\n",
       " (0.6509803921568629, 0.33725490196078434, 0.1568627450980391),\n",
       " (0.9686274509803922, 0.5058823529411766, 0.7490196078431374),\n",
       " (0.6, 0.6, 0.6)]"
      ]
     },
     "execution_count": 20,
     "metadata": {},
     "output_type": "execute_result"
    }
   ],
   "source": [
    "sns.choose_colorbrewer_palette(\"qualitative\")  # 参看所有颜色分类"
   ]
  },
  {
   "cell_type": "markdown",
   "id": "c4120be9",
   "metadata": {},
   "source": [
    "**用xkcd颜色**"
   ]
  },
  {
   "cell_type": "code",
   "execution_count": 21,
   "id": "19c93efc",
   "metadata": {},
   "outputs": [
    {
     "name": "stdout",
     "output_type": "stream",
     "text": [
      "#137e6d\n"
     ]
    }
   ],
   "source": [
    "print(sns.xkcd_rgb[\"blue green\"])"
   ]
  },
  {
   "cell_type": "markdown",
   "id": "41574832",
   "metadata": {},
   "source": [
    "**连续的颜色**"
   ]
  },
  {
   "cell_type": "code",
   "execution_count": 22,
   "id": "ab00f56b",
   "metadata": {},
   "outputs": [
    {
     "data": {
      "image/png": "[encoded data removed]",
      "text/plain": [
       "<Figure size 432x72 with 1 Axes>"
      ]
     },
     "metadata": {
      "needs_background": "light"
     },
     "output_type": "display_data"
    }
   ],
   "source": [
    "sns.palplot(sns.color_palette('Blues'))"
   ]
  },
  {
   "cell_type": "code",
   "execution_count": 23,
   "id": "bc35ddc9",
   "metadata": {},
   "outputs": [
    {
     "data": {
      "application/vnd.jupyter.widget-view+json": {
       "model_id": "3cf9a46a6a9a452796eee1c62d2d594a",
       "version_major": 2,
       "version_minor": 0
      },
      "text/plain": [
       "interactive(children=(Dropdown(description='name', options=('Greys', 'Reds', 'Greens', 'Blues', 'Oranges', 'Pu…"
      ]
     },
     "metadata": {},
     "output_type": "display_data"
    },
    {
     "data": {
      "text/plain": [
       "[(0.9575547866205305, 0.9575547866205305, 0.9575547866205305),\n",
       " (0.9012072279892349, 0.9012072279892349, 0.9012072279892349),\n",
       " (0.8328950403690888, 0.8328950403690888, 0.8328950403690888),\n",
       " (0.7502191464821223, 0.7502191464821223, 0.7502191464821223),\n",
       " (0.6434140715109573, 0.6434140715109573, 0.6434140715109573),\n",
       " (0.5387158785082661, 0.5387158785082661, 0.5387158785082661),\n",
       " (0.440322952710496, 0.440322952710496, 0.440322952710496),\n",
       " (0.342883506343714, 0.342883506343714, 0.342883506343714),\n",
       " (0.22329873125720878, 0.22329873125720878, 0.22329873125720878),\n",
       " (0.10469819300269129, 0.10469819300269129, 0.10469819300269129)]"
      ]
     },
     "execution_count": 23,
     "metadata": {},
     "output_type": "execute_result"
    }
   ],
   "source": [
    "sns.choose_colorbrewer_palette(\"sequential\")"
   ]
  },
  {
   "cell_type": "markdown",
   "id": "e9b2bc54",
   "metadata": {},
   "source": [
    "**离散调色盘**"
   ]
  },
  {
   "cell_type": "code",
   "execution_count": 27,
   "id": "828854ea",
   "metadata": {},
   "outputs": [
    {
     "data": {
      "image/png": "[encoded data removed]",
      "text/plain": [
       "<Figure size 432x288 with 1 Axes>"
      ]
     },
     "metadata": {
      "needs_background": "light"
     },
     "output_type": "display_data"
    }
   ],
   "source": [
    "values = [12,15,17,18,-5,-10]\n",
    "with sns.color_palette(\"RdBu_r\"):\n",
    "    sns.barplot(x = list(range(0,6)),y = sorted(values))"
   ]
  }
 ],
 "metadata": {
  "kernelspec": {
   "display_name": "Python 3",
   "language": "python",
   "name": "python3"
  },
  "language_info": {
   "codemirror_mode": {
    "name": "ipython",
    "version": 3
   },
   "file_extension": ".py",
   "mimetype": "text/x-python",
   "name": "python",
   "nbconvert_exporter": "python",
   "pygments_lexer": "ipython3",
   "version": "3.8.8"
  }
 },
 "nbformat": 4,
 "nbformat_minor": 5
}
