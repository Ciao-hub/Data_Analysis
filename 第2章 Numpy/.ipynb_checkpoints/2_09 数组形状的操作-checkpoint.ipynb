{
 "cells": [
  {
   "cell_type": "code",
   "execution_count": 1,
   "id": "10af50f4",
   "metadata": {},
   "outputs": [],
   "source": [
    "import numpy as np"
   ]
  },
  {
   "cell_type": "code",
   "execution_count": 2,
   "id": "f95f82d5",
   "metadata": {},
   "outputs": [
    {
     "data": {
      "text/plain": [
       "array([[1, 7, 7, 7],\n",
       "       [6, 8, 0, 9],\n",
       "       [9, 7, 2, 8]])"
      ]
     },
     "execution_count": 2,
     "metadata": {},
     "output_type": "execute_result"
    }
   ],
   "source": [
    "v1 = np.random.randint(0,10,size = (3,4))\n",
    "v1"
   ]
  },
  {
   "cell_type": "code",
   "execution_count": 3,
   "id": "f66753ed",
   "metadata": {},
   "outputs": [
    {
     "data": {
      "text/plain": [
       "array([[7, 6, 9, 3]])"
      ]
     },
     "execution_count": 3,
     "metadata": {},
     "output_type": "execute_result"
    }
   ],
   "source": [
    "v2 = np.random.randint(0,10,size = (1,4))\n",
    "v2"
   ]
  },
  {
   "cell_type": "code",
   "execution_count": 8,
   "id": "4b9a9103",
   "metadata": {},
   "outputs": [
    {
     "data": {
      "text/plain": [
       "array([[1, 7, 7, 7],\n",
       "       [6, 8, 0, 9],\n",
       "       [9, 7, 2, 8],\n",
       "       [7, 6, 9, 3]])"
      ]
     },
     "execution_count": 8,
     "metadata": {},
     "output_type": "execute_result"
    }
   ],
   "source": [
    "# v3 = np.vstack([v1,v2])\n",
    "v3 = np.concatenate([v1,v2],axis = 0)\n",
    "v3"
   ]
  },
  {
   "cell_type": "code",
   "execution_count": 5,
   "id": "58cc748b",
   "metadata": {},
   "outputs": [
    {
     "data": {
      "text/plain": [
       "array([[9, 0, 7, 6],\n",
       "       [7, 6, 0, 5],\n",
       "       [2, 2, 8, 5]])"
      ]
     },
     "execution_count": 5,
     "metadata": {},
     "output_type": "execute_result"
    }
   ],
   "source": [
    "h1 = np.random.randint(0,10,size = (3,4))\n",
    "h1"
   ]
  },
  {
   "cell_type": "code",
   "execution_count": 6,
   "id": "6db77c06",
   "metadata": {},
   "outputs": [
    {
     "data": {
      "text/plain": [
       "array([[9],\n",
       "       [0],\n",
       "       [5]])"
      ]
     },
     "execution_count": 6,
     "metadata": {},
     "output_type": "execute_result"
    }
   ],
   "source": [
    "h2 = np.random.randint(0,10,size = (3,1))\n",
    "h2"
   ]
  },
  {
   "cell_type": "code",
   "execution_count": 9,
   "id": "068375fe",
   "metadata": {},
   "outputs": [
    {
     "data": {
      "text/plain": [
       "array([[9, 0, 7, 6, 9],\n",
       "       [7, 6, 0, 5, 0],\n",
       "       [2, 2, 8, 5, 5]])"
      ]
     },
     "execution_count": 9,
     "metadata": {},
     "output_type": "execute_result"
    }
   ],
   "source": [
    "# h3 = np.hstack([h1,h2])\n",
    "h3 = np.concatenate([h1,h2],axis = 1)\n",
    "h3"
   ]
  },
  {
   "cell_type": "code",
   "execution_count": 10,
   "id": "596f5624",
   "metadata": {},
   "outputs": [
    {
     "data": {
      "text/plain": [
       "array([9, 0, 7, 6, 7, 6, 0, 5, 2, 2, 8, 5, 9, 0, 5])"
      ]
     },
     "execution_count": 10,
     "metadata": {},
     "output_type": "execute_result"
    }
   ],
   "source": [
    "h4 = np.concatenate([h1,h2],axis = None)\n",
    "h4"
   ]
  },
  {
   "cell_type": "markdown",
   "id": "8336cda2",
   "metadata": {},
   "source": [
    "# 总结：\n",
    "1. hstack代表在水平方向叠加，行必须一致\n",
    "2. vstack代表在垂直方向叠加，列必须一致\n",
    "3. concatenate可以手动指定axis参数具体在哪个方向叠加，如果axis = 0，垂直叠加，如果axis = 1，代表水平方向叠加，如果axis = None，则先进行叠加，再转换成一维数组"
   ]
  }
 ],
 "metadata": {
  "kernelspec": {
   "display_name": "Python 3",
   "language": "python",
   "name": "python3"
  },
  "language_info": {
   "codemirror_mode": {
    "name": "ipython",
    "version": 3
   },
   "file_extension": ".py",
   "mimetype": "text/x-python",
   "name": "python",
   "nbconvert_exporter": "python",
   "pygments_lexer": "ipython3",
   "version": "3.8.8"
  }
 },
 "nbformat": 4,
 "nbformat_minor": 5
}
