{
 "cells": [
  {
   "cell_type": "code",
   "execution_count": 1,
   "id": "c725748a",
   "metadata": {},
   "outputs": [],
   "source": [
    "import numpy as np"
   ]
  },
  {
   "cell_type": "code",
   "execution_count": 3,
   "id": "f989eb70",
   "metadata": {},
   "outputs": [
    {
     "data": {
      "text/plain": [
       "array([[66, 70],\n",
       "       [48,  5],\n",
       "       [60, 60],\n",
       "       [63, 83],\n",
       "       [95,  5],\n",
       "       [ 8, 43],\n",
       "       [54, 73],\n",
       "       [61, 63],\n",
       "       [18, 20],\n",
       "       [75, 72],\n",
       "       [84, 87],\n",
       "       [ 6,  1],\n",
       "       [49, 51],\n",
       "       [88,  1],\n",
       "       [97, 93],\n",
       "       [81, 73],\n",
       "       [75, 12],\n",
       "       [71, 94],\n",
       "       [27, 50],\n",
       "       [59, 46]])"
      ]
     },
     "execution_count": 3,
     "metadata": {},
     "output_type": "execute_result"
    }
   ],
   "source": [
    "# 文件保存\n",
    "scores = np.random.randint(0,100, size = (20, 2))\n",
    "scores"
   ]
  },
  {
   "cell_type": "code",
   "execution_count": 10,
   "id": "ab61d935",
   "metadata": {},
   "outputs": [],
   "source": [
    "np.savetxt('scores.csv', scores, delimiter = ',', header = '英语,数学',comments = '',fmt = '%d')"
   ]
  },
  {
   "cell_type": "code",
   "execution_count": 12,
   "id": "13ec6729",
   "metadata": {},
   "outputs": [
    {
     "data": {
      "text/plain": [
       "array([[66, 70],\n",
       "       [48,  5],\n",
       "       [60, 60],\n",
       "       [63, 83],\n",
       "       [95,  5],\n",
       "       [ 8, 43],\n",
       "       [54, 73],\n",
       "       [61, 63],\n",
       "       [18, 20],\n",
       "       [75, 72],\n",
       "       [84, 87],\n",
       "       [ 6,  1],\n",
       "       [49, 51],\n",
       "       [88,  1],\n",
       "       [97, 93],\n",
       "       [81, 73],\n",
       "       [75, 12],\n",
       "       [71, 94],\n",
       "       [27, 50],\n",
       "       [59, 46]])"
      ]
     },
     "execution_count": 12,
     "metadata": {},
     "output_type": "execute_result"
    }
   ],
   "source": [
    "# 读取文件\n",
    "b = np.loadtxt('scores.csv',dtype = np.int32,delimiter = ',', skiprows = 1)\n",
    "b"
   ]
  },
  {
   "cell_type": "code",
   "execution_count": 14,
   "id": "ff56f3c4",
   "metadata": {},
   "outputs": [],
   "source": [
    "# Numpy独有存储方法\n",
    "c  = np.random.randint(0, 10, size = (2,3))\n",
    "np.save('c', c)"
   ]
  },
  {
   "cell_type": "code",
   "execution_count": 15,
   "id": "e3f9b019",
   "metadata": {},
   "outputs": [
    {
     "data": {
      "text/plain": [
       "array([[0, 6, 4],\n",
       "       [0, 1, 3]])"
      ]
     },
     "execution_count": 15,
     "metadata": {},
     "output_type": "execute_result"
    }
   ],
   "source": [
    "c1 = np.load('c.npy')\n",
    "c1"
   ]
  }
 ],
 "metadata": {
  "kernelspec": {
   "display_name": "Python 3",
   "language": "python",
   "name": "python3"
  },
  "language_info": {
   "codemirror_mode": {
    "name": "ipython",
    "version": 3
   },
   "file_extension": ".py",
   "mimetype": "text/x-python",
   "name": "python",
   "nbconvert_exporter": "python",
   "pygments_lexer": "ipython3",
   "version": "3.8.8"
  }
 },
 "nbformat": 4,
 "nbformat_minor": 5
}
