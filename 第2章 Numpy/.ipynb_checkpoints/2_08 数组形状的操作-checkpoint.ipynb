{
 "cells": [
  {
   "cell_type": "code",
   "execution_count": 1,
   "id": "dc93c287",
   "metadata": {},
   "outputs": [],
   "source": [
    "import numpy as np"
   ]
  },
  {
   "cell_type": "code",
   "execution_count": 2,
   "id": "0409de0e",
   "metadata": {},
   "outputs": [
    {
     "data": {
      "text/plain": [
       "array([[2, 0, 0, 6],\n",
       "       [6, 1, 1, 6],\n",
       "       [5, 5, 9, 9]])"
      ]
     },
     "execution_count": 2,
     "metadata": {},
     "output_type": "execute_result"
    }
   ],
   "source": [
    "a1 = np.random.randint(0,10,size = (3,4))\n",
    "a1"
   ]
  },
  {
   "cell_type": "code",
   "execution_count": 3,
   "id": "f085f206",
   "metadata": {},
   "outputs": [
    {
     "data": {
      "text/plain": [
       "array([[2, 0, 0, 6, 6, 1],\n",
       "       [1, 6, 5, 5, 9, 9]])"
      ]
     },
     "execution_count": 3,
     "metadata": {},
     "output_type": "execute_result"
    }
   ],
   "source": [
    "a1.reshape((2,6))   # 不改变数组形状"
   ]
  },
  {
   "cell_type": "code",
   "execution_count": 4,
   "id": "8e518d98",
   "metadata": {},
   "outputs": [
    {
     "data": {
      "text/plain": [
       "array([[2, 0, 0, 6],\n",
       "       [6, 1, 1, 6],\n",
       "       [5, 5, 9, 9]])"
      ]
     },
     "execution_count": 4,
     "metadata": {},
     "output_type": "execute_result"
    }
   ],
   "source": [
    "a1"
   ]
  },
  {
   "cell_type": "code",
   "execution_count": 5,
   "id": "b54bec08",
   "metadata": {},
   "outputs": [],
   "source": [
    "a1.resize((4,3))   #改变数组形状"
   ]
  },
  {
   "cell_type": "code",
   "execution_count": 6,
   "id": "7ae16a32",
   "metadata": {},
   "outputs": [
    {
     "data": {
      "text/plain": [
       "array([[2, 0, 0],\n",
       "       [6, 6, 1],\n",
       "       [1, 6, 5],\n",
       "       [5, 9, 9]])"
      ]
     },
     "execution_count": 6,
     "metadata": {},
     "output_type": "execute_result"
    }
   ],
   "source": [
    "a1"
   ]
  },
  {
   "cell_type": "code",
   "execution_count": 7,
   "id": "0a8f79fc",
   "metadata": {},
   "outputs": [
    {
     "name": "stdout",
     "output_type": "stream",
     "text": [
      "[[4 8 3 7]\n",
      " [6 7 6 4]\n",
      " [3 4 8 3]]\n"
     ]
    }
   ],
   "source": [
    "# flatten 和 ravel 函数\n",
    "a2 = np.random.randint(0,10,size = (3,4))\n",
    "print(a2)"
   ]
  },
  {
   "cell_type": "code",
   "execution_count": 8,
   "id": "02cc1302",
   "metadata": {},
   "outputs": [
    {
     "name": "stdout",
     "output_type": "stream",
     "text": [
      "[4 8 3 7]\n"
     ]
    }
   ],
   "source": [
    "a3  = a2.flatten()\n",
    "a3[0] = 100\n",
    "print(a2[0])"
   ]
  },
  {
   "cell_type": "code",
   "execution_count": 9,
   "id": "a182cbd7",
   "metadata": {},
   "outputs": [
    {
     "data": {
      "text/plain": [
       "array([4, 8, 3, 7, 6, 7, 6, 4, 3, 4, 8, 3])"
      ]
     },
     "execution_count": 9,
     "metadata": {},
     "output_type": "execute_result"
    }
   ],
   "source": [
    "a2.ravel()"
   ]
  },
  {
   "cell_type": "code",
   "execution_count": 10,
   "id": "169b2a6a",
   "metadata": {},
   "outputs": [
    {
     "data": {
      "text/plain": [
       "array([[4, 8, 3, 7],\n",
       "       [6, 7, 6, 4],\n",
       "       [3, 4, 8, 3]])"
      ]
     },
     "execution_count": 10,
     "metadata": {},
     "output_type": "execute_result"
    }
   ],
   "source": [
    "a2"
   ]
  },
  {
   "cell_type": "markdown",
   "id": "db57ae4d",
   "metadata": {},
   "source": [
    "# 总结：\n",
    "1. reshape 和 resize都是重新定义形状的，但是reshape不会修改数组本身，而是将修改后的结果返回回去，而resize是直接修改数组本身\n",
    "2. flatten 和 ravel都是来讲数组变成一维数组的，并且他们不会对原数组造成修改，但是flatten返回的是一个拷贝，所以对flatten的返回值修改不会影响原数组，ravel返回的是一个View，那么修改返回值会影响原数组"
   ]
  }
 ],
 "metadata": {
  "kernelspec": {
   "display_name": "Python 3",
   "language": "python",
   "name": "python3"
  },
  "language_info": {
   "codemirror_mode": {
    "name": "ipython",
    "version": 3
   },
   "file_extension": ".py",
   "mimetype": "text/x-python",
   "name": "python",
   "nbconvert_exporter": "python",
   "pygments_lexer": "ipython3",
   "version": "3.8.8"
  }
 },
 "nbformat": 4,
 "nbformat_minor": 5
}
