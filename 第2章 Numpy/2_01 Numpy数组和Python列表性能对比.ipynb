{
 "cells": [
  {
   "cell_type": "code",
   "execution_count": 1,
   "id": "b7b01f4a",
   "metadata": {},
   "outputs": [],
   "source": [
    "import numpy as np\n",
    "import time"
   ]
  },
  {
   "cell_type": "code",
   "execution_count": 2,
   "id": "a2ee8217",
   "metadata": {},
   "outputs": [
    {
     "name": "stdout",
     "output_type": "stream",
     "text": [
      "0.4304921627044678\n"
     ]
    }
   ],
   "source": [
    "t1 = time.time()\n",
    "a = []\n",
    "for x in range(1000000):\n",
    "    a.append(x**2)\n",
    "t2 = time.time()\n",
    "print(t2 - t1)"
   ]
  },
  {
   "cell_type": "code",
   "execution_count": 3,
   "id": "2f6481e3",
   "metadata": {},
   "outputs": [
    {
     "name": "stdout",
     "output_type": "stream",
     "text": [
      "0.004984855651855469\n"
     ]
    }
   ],
   "source": [
    "t3  = time.time()\n",
    "b = np.arange(1000000)**2\n",
    "t4 = time.time()\n",
    "print(t4 - t3)"
   ]
  }
 ],
 "metadata": {
  "kernelspec": {
   "display_name": "Python 3",
   "language": "python",
   "name": "python3"
  },
  "language_info": {
   "codemirror_mode": {
    "name": "ipython",
    "version": 3
   },
   "file_extension": ".py",
   "mimetype": "text/x-python",
   "name": "python",
   "nbconvert_exporter": "python",
   "pygments_lexer": "ipython3",
   "version": "3.8.8"
  }
 },
 "nbformat": 4,
 "nbformat_minor": 5
}
