{
 "cells": [
  {
   "cell_type": "code",
   "execution_count": 2,
   "id": "904badd8",
   "metadata": {},
   "outputs": [],
   "source": [
    "import numpy as np"
   ]
  },
  {
   "cell_type": "code",
   "execution_count": 8,
   "id": "86ad296b",
   "metadata": {},
   "outputs": [
    {
     "name": "stdout",
     "output_type": "stream",
     "text": [
      "4\n",
      "[4 5]\n",
      "[0 2 4 6 8]\n",
      "9\n"
     ]
    }
   ],
   "source": [
    "# 1. 一维数组的索引和切片\n",
    "a1 = np.arange(10)\n",
    "#print(a1)\n",
    "\n",
    "#1.1 索引操作\n",
    "print(a1[4])\n",
    "\n",
    "# 1.2 切片操作\n",
    "print(a1[4:6])\n",
    "\n",
    "# 1.3 使用步长\n",
    "print(a1[::2])\n",
    "\n",
    "# 1.4 使用负数作为索引\n",
    "print(a1[-1])"
   ]
  },
  {
   "cell_type": "code",
   "execution_count": 9,
   "id": "96ab613e",
   "metadata": {},
   "outputs": [
    {
     "name": "stdout",
     "output_type": "stream",
     "text": [
      "[[6 7 8 9 9 9]\n",
      " [1 5 7 6 8 1]\n",
      " [6 6 0 7 0 6]\n",
      " [3 5 8 2 2 6]]\n"
     ]
    }
   ],
   "source": [
    "# 2. 多维数组\n",
    "\n",
    "# 也是通过中括号，在中括号中，用逗号进行分割，逗号前面是行，逗号后面是列\n",
    "# 如果多维数组中只有一个值，那这个就是行\n",
    "\n",
    "a2 = np.random.randint(0,10,size = (4,6))\n",
    "print(a2)"
   ]
  },
  {
   "cell_type": "code",
   "execution_count": 10,
   "id": "252095b8",
   "metadata": {},
   "outputs": [
    {
     "data": {
      "text/plain": [
       "array([6, 7, 8, 9, 9, 9])"
      ]
     },
     "execution_count": 10,
     "metadata": {},
     "output_type": "execute_result"
    }
   ],
   "source": [
    "a2[0]"
   ]
  },
  {
   "cell_type": "code",
   "execution_count": 11,
   "id": "78a724e9",
   "metadata": {},
   "outputs": [
    {
     "data": {
      "text/plain": [
       "array([[1, 5, 7, 6, 8, 1],\n",
       "       [6, 6, 0, 7, 0, 6]])"
      ]
     },
     "execution_count": 11,
     "metadata": {},
     "output_type": "execute_result"
    }
   ],
   "source": [
    "a2[1:3]"
   ]
  },
  {
   "cell_type": "code",
   "execution_count": 12,
   "id": "f5600c48",
   "metadata": {},
   "outputs": [
    {
     "data": {
      "text/plain": [
       "array([[6, 7, 8, 9, 9, 9],\n",
       "       [6, 6, 0, 7, 0, 6],\n",
       "       [3, 5, 8, 2, 2, 6]])"
      ]
     },
     "execution_count": 12,
     "metadata": {},
     "output_type": "execute_result"
    }
   ],
   "source": [
    "a2[[0,2,3]]  # 两个方括号"
   ]
  },
  {
   "cell_type": "code",
   "execution_count": 16,
   "id": "02d48e66",
   "metadata": {},
   "outputs": [
    {
     "data": {
      "text/plain": [
       "0"
      ]
     },
     "execution_count": 16,
     "metadata": {},
     "output_type": "execute_result"
    }
   ],
   "source": [
    "a2[2,2]"
   ]
  },
  {
   "cell_type": "code",
   "execution_count": 15,
   "id": "f6d325a0",
   "metadata": {},
   "outputs": [
    {
     "data": {
      "text/plain": [
       "array([8, 6])"
      ]
     },
     "execution_count": 15,
     "metadata": {},
     "output_type": "execute_result"
    }
   ],
   "source": [
    "a2[[1,2],[4,5]]   #获取第1行第4列 和 第2行第5列的数据，从0开始计算"
   ]
  },
  {
   "cell_type": "code",
   "execution_count": 17,
   "id": "8632f21f",
   "metadata": {},
   "outputs": [
    {
     "data": {
      "text/plain": [
       "array([[8, 1],\n",
       "       [0, 6]])"
      ]
     },
     "execution_count": 17,
     "metadata": {},
     "output_type": "execute_result"
    }
   ],
   "source": [
    "a2[1:3,4:6]"
   ]
  },
  {
   "cell_type": "code",
   "execution_count": 18,
   "id": "812303ac",
   "metadata": {
    "scrolled": true
   },
   "outputs": [
    {
     "data": {
      "text/plain": [
       "array([7, 5, 6, 5])"
      ]
     },
     "execution_count": 18,
     "metadata": {},
     "output_type": "execute_result"
    }
   ],
   "source": [
    "a2[:,1]  # 获取列的数据"
   ]
  },
  {
   "cell_type": "markdown",
   "id": "032feed9",
   "metadata": {},
   "source": [
    "# 总结：\n",
    "1. 如果索引是一维的，索引和切片和Python中列表一样\n",
    "2. 如果是多维的，那么中括号中，给两个值，用逗号分开，逗号前面是行，逗号后面是列\n",
    "3. 如果是多维数组，那么行的部分和列的部分，都是遵循一维数组的方式，可以使用整型、切片，还可以使用中括号的形式来代表不连续的"
   ]
  }
 ],
 "metadata": {
  "kernelspec": {
   "display_name": "Python 3",
   "language": "python",
   "name": "python3"
  },
  "language_info": {
   "codemirror_mode": {
    "name": "ipython",
    "version": 3
   },
   "file_extension": ".py",
   "mimetype": "text/x-python",
   "name": "python",
   "nbconvert_exporter": "python",
   "pygments_lexer": "ipython3",
   "version": "3.8.8"
  }
 },
 "nbformat": 4,
 "nbformat_minor": 5
}
