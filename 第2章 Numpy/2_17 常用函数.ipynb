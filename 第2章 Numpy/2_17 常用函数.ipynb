{
 "cells": [
  {
   "cell_type": "code",
   "execution_count": 42,
   "id": "984dfec1",
   "metadata": {},
   "outputs": [],
   "source": [
    "import numpy as np"
   ]
  },
  {
   "cell_type": "markdown",
   "id": "641e342e",
   "metadata": {},
   "source": [
    "### 一元函数"
   ]
  },
  {
   "cell_type": "code",
   "execution_count": 43,
   "id": "9a9b6dcc",
   "metadata": {},
   "outputs": [
    {
     "data": {
      "text/plain": [
       "array([[-0.10731976, -5.52284663, -7.01760857, -0.89289664, -2.33050032],\n",
       "       [ 1.24658151,  1.47611295, -5.29334763,  0.77809554, -8.53033211],\n",
       "       [-3.36633001,  6.86891379, -8.06833576, -9.38189408,  7.85198839]])"
      ]
     },
     "execution_count": 43,
     "metadata": {},
     "output_type": "execute_result"
    }
   ],
   "source": [
    "a = np.random.uniform(-10,10,size = (3,5))\n",
    "a"
   ]
  },
  {
   "cell_type": "code",
   "execution_count": 17,
   "id": "68154cf2",
   "metadata": {},
   "outputs": [
    {
     "data": {
      "text/plain": [
       "array([[1.13802081, 6.37450007, 8.77151896, 8.1769373 , 7.32893033],\n",
       "       [1.73746253, 1.97624427, 5.64814248, 1.69857913, 0.4439095 ],\n",
       "       [7.6725906 , 7.94144576, 4.6685208 , 2.29076846, 8.77791356]])"
      ]
     },
     "execution_count": 17,
     "metadata": {},
     "output_type": "execute_result"
    }
   ],
   "source": [
    "# 绝对值\n",
    "np.abs(a)"
   ]
  },
  {
   "cell_type": "code",
   "execution_count": 18,
   "id": "a997c6f0",
   "metadata": {},
   "outputs": [
    {
     "data": {
      "text/plain": [
       "array([[1.06678058, 2.52477723, 2.96167503, 2.85953445, 2.70719972],\n",
       "       [1.31812842, 1.40578955, 2.3765821 , 1.30329549, 0.66626534],\n",
       "       [2.76994415, 2.81805709, 2.16067601, 1.51352848, 2.96275439]])"
      ]
     },
     "execution_count": 18,
     "metadata": {},
     "output_type": "execute_result"
    }
   ],
   "source": [
    "# 开根\n",
    "b = np.abs(a)\n",
    "np.sqrt(b)"
   ]
  },
  {
   "cell_type": "code",
   "execution_count": 19,
   "id": "716b87f4",
   "metadata": {},
   "outputs": [
    {
     "data": {
      "text/plain": [
       "array([[ 1.29509136, 40.63425111, 76.93954481, 66.86230358, 53.7132198 ],\n",
       "       [ 3.01877605,  3.9055414 , 31.90151352,  2.88517107,  0.19705564],\n",
       "       [58.86864657, 63.06656076, 21.79508648,  5.24762014, 77.05176646]])"
      ]
     },
     "execution_count": 19,
     "metadata": {},
     "output_type": "execute_result"
    }
   ],
   "source": [
    "# 平方\n",
    "np.square(a)"
   ]
  },
  {
   "cell_type": "code",
   "execution_count": 20,
   "id": "d9a44998",
   "metadata": {},
   "outputs": [
    {
     "data": {
      "text/plain": [
       "array([[3.20452632e-01, 5.86692051e+02, 1.55087830e-04, 3.55794104e+03,\n",
       "        6.56275209e-04],\n",
       "       [5.68290492e+00, 7.21559219e+00, 2.83763880e+02, 1.82943278e-01,\n",
       "        6.41523478e-01],\n",
       "       [4.65410566e-04, 3.55691861e-04, 9.38614323e-03, 9.88252910e+00,\n",
       "        1.54099269e-04]])"
      ]
     },
     "execution_count": 20,
     "metadata": {},
     "output_type": "execute_result"
    }
   ],
   "source": [
    "# e的指数\n",
    "np.exp(a)"
   ]
  },
  {
   "cell_type": "code",
   "execution_count": 21,
   "id": "7d830843",
   "metadata": {},
   "outputs": [
    {
     "data": {
      "text/plain": [
       "array([[ 0.12929062,  1.85230567,  2.17150999,  2.10131767,  1.99182957],\n",
       "       [ 0.55242573,  0.68119821,  1.73132673,  0.5297921 , -0.81213457],\n",
       "       [ 2.03765432,  2.07209534,  1.54084228,  0.82888733,  2.17223874]])"
      ]
     },
     "execution_count": 21,
     "metadata": {},
     "output_type": "execute_result"
    }
   ],
   "source": [
    "# 求对数\n",
    "np.log(b)"
   ]
  },
  {
   "cell_type": "code",
   "execution_count": 22,
   "id": "7b6cd07c",
   "metadata": {},
   "outputs": [
    {
     "data": {
      "text/plain": [
       "array([[-1.,  1., -1.,  1., -1.],\n",
       "       [ 1.,  1.,  1., -1., -1.],\n",
       "       [-1., -1., -1.,  1., -1.]])"
      ]
     },
     "execution_count": 22,
     "metadata": {},
     "output_type": "execute_result"
    }
   ],
   "source": [
    "# 数组中的值标签化，大于0的变成1，等于0的不变，小于0的变成-1\n",
    "np.sign(a)"
   ]
  },
  {
   "cell_type": "code",
   "execution_count": 23,
   "id": "07494ded",
   "metadata": {},
   "outputs": [
    {
     "data": {
      "text/plain": [
       "array([[-1.,  7., -8.,  9., -7.],\n",
       "       [ 2.,  2.,  6., -1., -0.],\n",
       "       [-7., -7., -4.,  3., -8.]])"
      ]
     },
     "execution_count": 23,
     "metadata": {},
     "output_type": "execute_result"
    }
   ],
   "source": [
    "# 朝着正无穷方向取整\n",
    "np.ceil(a)"
   ]
  },
  {
   "cell_type": "code",
   "execution_count": 24,
   "id": "5a768a64",
   "metadata": {},
   "outputs": [
    {
     "data": {
      "text/plain": [
       "array([[-2.,  6., -9.,  8., -8.],\n",
       "       [ 1.,  1.,  5., -2., -1.],\n",
       "       [-8., -8., -5.,  2., -9.]])"
      ]
     },
     "execution_count": 24,
     "metadata": {},
     "output_type": "execute_result"
    }
   ],
   "source": [
    "# 朝着负无穷方向取整\n",
    "np.floor(a)"
   ]
  },
  {
   "cell_type": "code",
   "execution_count": 25,
   "id": "693dbcdd",
   "metadata": {},
   "outputs": [
    {
     "data": {
      "text/plain": [
       "array([[-1.,  6., -9.,  8., -7.],\n",
       "       [ 2.,  2.,  6., -2., -0.],\n",
       "       [-8., -8., -5.,  2., -9.]])"
      ]
     },
     "execution_count": 25,
     "metadata": {},
     "output_type": "execute_result"
    }
   ],
   "source": [
    "# 四舍五入\n",
    "np.rint(a)\n",
    "np.round(a)"
   ]
  },
  {
   "cell_type": "code",
   "execution_count": 26,
   "id": "e37ae1ea",
   "metadata": {},
   "outputs": [
    {
     "data": {
      "text/plain": [
       "(array([[-0.13802081,  0.37450007, -0.77151896,  0.1769373 , -0.32893033],\n",
       "        [ 0.73746253,  0.97624427,  0.64814248, -0.69857913, -0.4439095 ],\n",
       "        [-0.6725906 , -0.94144576, -0.6685208 ,  0.29076846, -0.77791356]]),\n",
       " array([[-1.,  6., -8.,  8., -7.],\n",
       "        [ 1.,  1.,  5., -1., -0.],\n",
       "        [-7., -7., -4.,  2., -8.]]))"
      ]
     },
     "execution_count": 26,
     "metadata": {},
     "output_type": "execute_result"
    }
   ],
   "source": [
    "# 将整数和小数分隔开来形成两个数组\n",
    "np.modf(a)"
   ]
  },
  {
   "cell_type": "code",
   "execution_count": null,
   "id": "59cac1b0",
   "metadata": {},
   "outputs": [],
   "source": [
    "# 判断是否是NAN或者INF\n",
    "np.isnan(a)\n",
    "np.isinf(a)"
   ]
  },
  {
   "cell_type": "code",
   "execution_count": 27,
   "id": "488ab980",
   "metadata": {},
   "outputs": [
    {
     "data": {
      "text/plain": [
       "array([[-0.90780522,  0.09118791, -0.60777763,  0.94830152, -0.86529823],\n",
       "       [ 0.98614331,  0.91892581, -0.59321199, -0.99184688, -0.42947332],\n",
       "       [-0.98359371, -0.99617745,  0.99903795,  0.7518241 , -0.60268724]])"
      ]
     },
     "execution_count": 27,
     "metadata": {},
     "output_type": "execute_result"
    }
   ],
   "source": [
    "# 三角函数\n",
    "np.sin(a)"
   ]
  },
  {
   "cell_type": "markdown",
   "id": "f25c3852",
   "metadata": {},
   "source": [
    "### 二元函数"
   ]
  },
  {
   "cell_type": "code",
   "execution_count": 28,
   "id": "a511f3f2",
   "metadata": {},
   "outputs": [
    {
     "data": {
      "text/plain": [
       "array([[-1.13802081,  6.37450007, -8.77151896,  8.1769373 , -7.32893033],\n",
       "       [ 3.73746253,  3.97624427,  7.64814248,  0.30142087,  1.5560905 ],\n",
       "       [-3.6725906 , -3.94144576, -0.6685208 ,  6.29076846, -4.77791356]])"
      ]
     },
     "execution_count": 28,
     "metadata": {},
     "output_type": "execute_result"
    }
   ],
   "source": [
    "# 加法运算\n",
    "# a + 1\n",
    "np.add(a,np.random.randint(0,5,size = (3,1)))"
   ]
  },
  {
   "cell_type": "code",
   "execution_count": null,
   "id": "8e13cb2d",
   "metadata": {},
   "outputs": [],
   "source": [
    "np.subtract() # 减法运算\n",
    "np.negative() # 负数运算\n",
    "np.multiply() # 乘法运算\n",
    "np.divide()   # 除法运算\n",
    "np.floor_divide()  # 取整运算\n",
    "np.mod()   # 取余运算"
   ]
  },
  {
   "cell_type": "code",
   "execution_count": 29,
   "id": "bf408cdf",
   "metadata": {},
   "outputs": [
    {
     "data": {
      "text/plain": [
       "array([6.37450007, 8.1769373 , 1.73746253, 1.97624427, 5.64814248,\n",
       "       2.29076846])"
      ]
     },
     "execution_count": 29,
     "metadata": {},
     "output_type": "execute_result"
    }
   ],
   "source": [
    "# a[a > 0]\n",
    "a[np.greater(a,0)]"
   ]
  },
  {
   "cell_type": "code",
   "execution_count": 30,
   "id": "6df41e33",
   "metadata": {},
   "outputs": [
    {
     "data": {
      "text/plain": [
       "array([1.73746253, 1.97624427, 2.29076846])"
      ]
     },
     "execution_count": 30,
     "metadata": {},
     "output_type": "execute_result"
    }
   ],
   "source": [
    "# a[(a > 0) & (a < 5)]\n",
    "a[np.logical_and(a > 0, a < 5)]"
   ]
  },
  {
   "cell_type": "code",
   "execution_count": 31,
   "id": "d8f43caf",
   "metadata": {},
   "outputs": [
    {
     "data": {
      "text/plain": [
       "array([-1.13802081,  6.37450007, -8.77151896,  8.1769373 , -7.32893033,\n",
       "        5.64814248, -1.69857913, -0.4439095 , -7.6725906 , -7.94144576,\n",
       "       -4.6685208 , -8.77791356])"
      ]
     },
     "execution_count": 31,
     "metadata": {},
     "output_type": "execute_result"
    }
   ],
   "source": [
    "# a[(a >5) | (a < 0)]\n",
    "a[np.logical_or(a > 5, a < 0)]"
   ]
  },
  {
   "cell_type": "markdown",
   "id": "8ad03ee3",
   "metadata": {},
   "source": [
    "### 聚合函数"
   ]
  },
  {
   "cell_type": "code",
   "execution_count": 32,
   "id": "c314e489",
   "metadata": {},
   "outputs": [
    {
     "data": {
      "text/plain": [
       "array([ -7.07314888,   0.40929857,  -7.79189727,   8.76912663,\n",
       "       -16.55075339])"
      ]
     },
     "execution_count": 32,
     "metadata": {},
     "output_type": "execute_result"
    }
   ],
   "source": [
    "# 计算元素的和\n",
    "np.sum(a, axis = 0)"
   ]
  },
  {
   "cell_type": "code",
   "execution_count": 33,
   "id": "2195af69",
   "metadata": {},
   "outputs": [
    {
     "data": {
      "text/plain": [
       "array([  15.17077179, -100.04291256,  231.29154044,  -31.81688417,\n",
       "        -28.55790401])"
      ]
     },
     "execution_count": 33,
     "metadata": {},
     "output_type": "execute_result"
    }
   ],
   "source": [
    "# 计算元素的积\n",
    "np.prod(a, axis = 0)"
   ]
  },
  {
   "cell_type": "code",
   "execution_count": 34,
   "id": "917be7c6",
   "metadata": {},
   "outputs": [
    {
     "data": {
      "text/plain": [
       "array([-2.35771629,  0.13643286, -2.59729909,  2.92304221, -5.5169178 ])"
      ]
     },
     "execution_count": 34,
     "metadata": {},
     "output_type": "execute_result"
    }
   ],
   "source": [
    "# 计算元素平均值\n",
    "np.mean(a, axis = 0)"
   ]
  },
  {
   "cell_type": "code",
   "execution_count": 35,
   "id": "3d965443",
   "metadata": {},
   "outputs": [
    {
     "data": {
      "text/plain": [
       "5.62385056441413"
      ]
     },
     "execution_count": 35,
     "metadata": {},
     "output_type": "execute_result"
    }
   ],
   "source": [
    "# 计算元素的标准差\n",
    "np.std(a)"
   ]
  },
  {
   "cell_type": "code",
   "execution_count": 36,
   "id": "4a6aae2e",
   "metadata": {},
   "outputs": [
    {
     "data": {
      "text/plain": [
       "31.627695170861127"
      ]
     },
     "execution_count": 36,
     "metadata": {},
     "output_type": "execute_result"
    }
   ],
   "source": [
    "# 计算元素的方差\n",
    "np.var(a)"
   ]
  },
  {
   "cell_type": "code",
   "execution_count": null,
   "id": "4b61105e",
   "metadata": {},
   "outputs": [],
   "source": [
    "np.min(a) # 计算元素的最小值\n",
    "np.max(a) # 计算元素的最大值"
   ]
  },
  {
   "cell_type": "code",
   "execution_count": 37,
   "id": "55697a6f",
   "metadata": {},
   "outputs": [
    {
     "name": "stdout",
     "output_type": "stream",
     "text": [
      "[[-1.13802081  6.37450007 -8.77151896  8.1769373  -7.32893033]\n",
      " [ 1.73746253  1.97624427  5.64814248 -1.69857913 -0.4439095 ]\n",
      " [-7.6725906  -7.94144576 -4.6685208   2.29076846 -8.77791356]]\n",
      "-8.777913559478232\n",
      "14\n"
     ]
    }
   ],
   "source": [
    "print(a)\n",
    "print(np.min(a))\n",
    "print(np.argmin(a))  # 找出最小值的索引"
   ]
  },
  {
   "cell_type": "code",
   "execution_count": 39,
   "id": "e2b3f486",
   "metadata": {},
   "outputs": [
    {
     "name": "stdout",
     "output_type": "stream",
     "text": [
      "[[-1.13802081  6.37450007 -8.77151896  8.1769373  -7.32893033]\n",
      " [ 1.73746253  1.97624427  5.64814248 -1.69857913 -0.4439095 ]\n",
      " [-7.6725906  -7.94144576 -4.6685208   2.29076846 -8.77791356]]\n",
      "8.176937298151046\n",
      "3\n"
     ]
    }
   ],
   "source": [
    "print(a)\n",
    "print(np.max(a))\n",
    "print(np.argmax(a))  # 找出最大值的索引"
   ]
  },
  {
   "cell_type": "code",
   "execution_count": 38,
   "id": "ddd9c0ab",
   "metadata": {},
   "outputs": [
    {
     "data": {
      "text/plain": [
       "-1.1380208061334578"
      ]
     },
     "execution_count": 38,
     "metadata": {},
     "output_type": "execute_result"
    }
   ],
   "source": [
    "# 计算元素中位数\n",
    "np.median(a)"
   ]
  },
  {
   "cell_type": "code",
   "execution_count": 40,
   "id": "b02bb27b",
   "metadata": {},
   "outputs": [
    {
     "name": "stdout",
     "output_type": "stream",
     "text": [
      "Wall time: 96.7 ms\n"
     ]
    },
    {
     "name": "stderr",
     "output_type": "stream",
     "text": [
      "<timed eval>:1: RuntimeWarning: overflow encountered in long_scalars\n"
     ]
    },
    {
     "data": {
      "text/plain": [
       "1783293664"
      ]
     },
     "execution_count": 40,
     "metadata": {},
     "output_type": "execute_result"
    }
   ],
   "source": [
    "%time sum(np.arange(1000000))"
   ]
  },
  {
   "cell_type": "code",
   "execution_count": 41,
   "id": "74bd2c2d",
   "metadata": {},
   "outputs": [
    {
     "name": "stdout",
     "output_type": "stream",
     "text": [
      "Wall time: 2.96 ms\n"
     ]
    },
    {
     "data": {
      "text/plain": [
       "1783293664"
      ]
     },
     "execution_count": 41,
     "metadata": {},
     "output_type": "execute_result"
    }
   ],
   "source": [
    "%time np.sum(np.arange(1000000))"
   ]
  },
  {
   "cell_type": "markdown",
   "id": "45d7a366",
   "metadata": {},
   "source": [
    "### 布尔判断函数："
   ]
  },
  {
   "cell_type": "code",
   "execution_count": 44,
   "id": "30fa262a",
   "metadata": {},
   "outputs": [
    {
     "data": {
      "text/plain": [
       "True"
      ]
     },
     "execution_count": 44,
     "metadata": {},
     "output_type": "execute_result"
    }
   ],
   "source": [
    "a.all()  # 验证所有元素是否为真，所有元素均非零"
   ]
  },
  {
   "cell_type": "code",
   "execution_count": 45,
   "id": "ae4d4d82",
   "metadata": {},
   "outputs": [
    {
     "data": {
      "text/plain": [
       "True"
      ]
     },
     "execution_count": 45,
     "metadata": {},
     "output_type": "execute_result"
    }
   ],
   "source": [
    "a.any() # 验证任何一个元素是否为真，有一个非零的就为True"
   ]
  },
  {
   "cell_type": "code",
   "execution_count": 48,
   "id": "e3bbf75b",
   "metadata": {},
   "outputs": [
    {
     "data": {
      "text/plain": [
       "True"
      ]
     },
     "execution_count": 48,
     "metadata": {},
     "output_type": "execute_result"
    }
   ],
   "source": [
    "c = np.arange(0,10)\n",
    "c.all()\n",
    "# c.any()"
   ]
  },
  {
   "cell_type": "code",
   "execution_count": 53,
   "id": "6272a101",
   "metadata": {},
   "outputs": [
    {
     "data": {
      "text/plain": [
       "False"
      ]
     },
     "execution_count": 53,
     "metadata": {},
     "output_type": "execute_result"
    }
   ],
   "source": [
    "(a > 0).all()"
   ]
  },
  {
   "cell_type": "code",
   "execution_count": 55,
   "id": "678d4b8a",
   "metadata": {},
   "outputs": [
    {
     "data": {
      "text/plain": [
       "True"
      ]
     },
     "execution_count": 55,
     "metadata": {},
     "output_type": "execute_result"
    }
   ],
   "source": [
    "(a > 0).any()"
   ]
  },
  {
   "cell_type": "markdown",
   "id": "62e8c38d",
   "metadata": {},
   "source": [
    "### 排序"
   ]
  },
  {
   "cell_type": "code",
   "execution_count": 59,
   "id": "11a58ad7",
   "metadata": {},
   "outputs": [
    {
     "data": {
      "text/plain": [
       "array([[-3.36633001, -5.52284663, -8.06833576, -9.38189408, -8.53033211],\n",
       "       [-0.10731976,  1.47611295, -7.01760857, -0.89289664, -2.33050032],\n",
       "       [ 1.24658151,  6.86891379, -5.29334763,  0.77809554,  7.85198839]])"
      ]
     },
     "execution_count": 59,
     "metadata": {},
     "output_type": "execute_result"
    }
   ],
   "source": [
    "# 指定轴排序，默认是使用数组的最后一个轴进行排序，不会改变数组本身\n",
    "np.sort(a, axis = 0)"
   ]
  },
  {
   "cell_type": "code",
   "execution_count": 62,
   "id": "549132f1",
   "metadata": {},
   "outputs": [
    {
     "data": {
      "text/plain": [
       "array([[4, 0, 4, 3, 1],\n",
       "       [6, 9, 5, 0, 2],\n",
       "       [7, 2, 6, 9, 2]])"
      ]
     },
     "execution_count": 62,
     "metadata": {},
     "output_type": "execute_result"
    }
   ],
   "source": [
    "d = np.random.randint(0,10,size = (3,5))\n",
    "d"
   ]
  },
  {
   "cell_type": "code",
   "execution_count": 63,
   "id": "942080f2",
   "metadata": {},
   "outputs": [],
   "source": [
    "d.sort()"
   ]
  },
  {
   "cell_type": "code",
   "execution_count": 64,
   "id": "df337cf5",
   "metadata": {},
   "outputs": [
    {
     "data": {
      "text/plain": [
       "array([[0, 1, 3, 4, 4],\n",
       "       [0, 2, 5, 6, 9],\n",
       "       [2, 2, 6, 7, 9]])"
      ]
     },
     "execution_count": 64,
     "metadata": {},
     "output_type": "execute_result"
    }
   ],
   "source": [
    "d"
   ]
  },
  {
   "cell_type": "code",
   "execution_count": 65,
   "id": "3cf23609",
   "metadata": {},
   "outputs": [
    {
     "data": {
      "text/plain": [
       "array([[2, 1, 4, 3, 0],\n",
       "       [4, 2, 3, 0, 1],\n",
       "       [3, 2, 0, 1, 4]], dtype=int64)"
      ]
     },
     "execution_count": 65,
     "metadata": {},
     "output_type": "execute_result"
    }
   ],
   "source": [
    "# 返回排序后的下标值\n",
    "np.argsort(a)"
   ]
  },
  {
   "cell_type": "code",
   "execution_count": 67,
   "id": "1c180414",
   "metadata": {},
   "outputs": [
    {
     "data": {
      "text/plain": [
       "array([[-0.10731976, -0.89289664, -2.33050032, -5.52284663, -7.01760857],\n",
       "       [ 1.47611295,  1.24658151,  0.77809554, -5.29334763, -8.53033211],\n",
       "       [ 7.85198839,  6.86891379, -3.36633001, -8.06833576, -9.38189408]])"
      ]
     },
     "execution_count": 67,
     "metadata": {},
     "output_type": "execute_result"
    }
   ],
   "source": [
    "-np.sort(-a)"
   ]
  },
  {
   "cell_type": "code",
   "execution_count": 68,
   "id": "b53a22a0",
   "metadata": {},
   "outputs": [
    {
     "data": {
      "text/plain": [
       "array([[-0.10731976, -0.89289664, -2.33050032, -5.52284663, -7.01760857],\n",
       "       [-5.52284663, -0.10731976, -0.89289664, -7.01760857, -2.33050032],\n",
       "       [-2.33050032, -5.52284663, -0.10731976, -7.01760857, -0.89289664]])"
      ]
     },
     "execution_count": 68,
     "metadata": {},
     "output_type": "execute_result"
    }
   ],
   "source": [
    "indexes = np.argsort(-a)\n",
    "np.take(a, indexes)"
   ]
  },
  {
   "cell_type": "markdown",
   "id": "a38e8991",
   "metadata": {},
   "source": [
    "### 其他函数补充"
   ]
  },
  {
   "cell_type": "code",
   "execution_count": 70,
   "id": "41ef2f72",
   "metadata": {},
   "outputs": [
    {
     "data": {
      "text/plain": [
       "array([[16, 44, 27, 19, 37, 70, 10, 92, 98, 43, 78, 88, 77, 91, 25, 35,\n",
       "        33, 88, 73, 23],\n",
       "       [74, 53, 70, 64, 58, 16, 69, 95, 66, 42,  0, 58, 65, 42, 63, 81,\n",
       "        73, 91, 64, 19],\n",
       "       [35, 88, 47, 76, 39, 79, 78, 51, 29, 12, 16, 13, 78,  3, 98, 78,\n",
       "         1, 21,  3, 91]])"
      ]
     },
     "execution_count": 70,
     "metadata": {},
     "output_type": "execute_result"
    }
   ],
   "source": [
    "# 沿着某个轴执行指定的函数\n",
    "e = np.random.randint(0,100,size = (3,20))\n",
    "e"
   ]
  },
  {
   "cell_type": "code",
   "execution_count": 80,
   "id": "24bb7246",
   "metadata": {},
   "outputs": [
    {
     "data": {
      "text/plain": [
       "array([35., 53., 47., 64., 39., 70., 69., 92., 66., 42., 16., 58., 77.,\n",
       "       42., 63., 78., 33., 88., 64., 23.])"
      ]
     },
     "execution_count": 80,
     "metadata": {},
     "output_type": "execute_result"
    }
   ],
   "source": [
    "def get_mean(x):\n",
    "    y = x[np.logical_and(x !=x.max(), x!=x.min())].mean()\n",
    "    return y\n",
    "#     print(x)\n",
    "#     print(\"=\" * 61)\n",
    "np.apply_along_axis(get_mean,axis = 0, arr = e)"
   ]
  },
  {
   "cell_type": "code",
   "execution_count": 81,
   "id": "1f566450",
   "metadata": {},
   "outputs": [
    {
     "data": {
      "text/plain": [
       "array([ 0. ,  2.5,  5. ,  7.5, 10. ])"
      ]
     },
     "execution_count": 81,
     "metadata": {},
     "output_type": "execute_result"
    }
   ],
   "source": [
    "# 将指定区间内的值平均分成多少份\n",
    "np.linspace(0,10,5)"
   ]
  },
  {
   "cell_type": "code",
   "execution_count": 82,
   "id": "2f80ed0a",
   "metadata": {},
   "outputs": [
    {
     "data": {
      "text/plain": [
       "array([[5, 3, 7, 3, 5],\n",
       "       [9, 8, 9, 7, 6],\n",
       "       [2, 8, 7, 7, 5]])"
      ]
     },
     "execution_count": 82,
     "metadata": {},
     "output_type": "execute_result"
    }
   ],
   "source": [
    "# 返回数组中的唯一值\n",
    "f = np.random.randint(0,10,size = (3,5))\n",
    "f"
   ]
  },
  {
   "cell_type": "code",
   "execution_count": 83,
   "id": "c18c8080",
   "metadata": {},
   "outputs": [
    {
     "data": {
      "text/plain": [
       "(array([2, 3, 5, 6, 7, 8, 9]), array([1, 2, 3, 1, 4, 2, 2], dtype=int64))"
      ]
     },
     "execution_count": 83,
     "metadata": {},
     "output_type": "execute_result"
    }
   ],
   "source": [
    "np.unique(f, return_counts = True)"
   ]
  }
 ],
 "metadata": {
  "kernelspec": {
   "display_name": "Python 3",
   "language": "python",
   "name": "python3"
  },
  "language_info": {
   "codemirror_mode": {
    "name": "ipython",
    "version": 3
   },
   "file_extension": ".py",
   "mimetype": "text/x-python",
   "name": "python",
   "nbconvert_exporter": "python",
   "pygments_lexer": "ipython3",
   "version": "3.8.8"
  }
 },
 "nbformat": 4,
 "nbformat_minor": 5
}
