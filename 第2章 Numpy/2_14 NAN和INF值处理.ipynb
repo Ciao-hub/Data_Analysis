{
 "cells": [
  {
   "cell_type": "code",
   "execution_count": 7,
   "id": "92c5753e",
   "metadata": {},
   "outputs": [],
   "source": [
    "import numpy as np"
   ]
  },
  {
   "cell_type": "code",
   "execution_count": 8,
   "id": "01310bdf",
   "metadata": {},
   "outputs": [
    {
     "data": {
      "text/plain": [
       "array([[3, 7, 6, 0, 1],\n",
       "       [4, 5, 6, 3, 8],\n",
       "       [9, 8, 9, 2, 0]])"
      ]
     },
     "execution_count": 8,
     "metadata": {},
     "output_type": "execute_result"
    }
   ],
   "source": [
    "data = np.random.randint(0,10,size = (3,5))\n",
    "data"
   ]
  },
  {
   "cell_type": "code",
   "execution_count": 9,
   "id": "8e7b43fe",
   "metadata": {},
   "outputs": [
    {
     "data": {
      "text/plain": [
       "array([[ 3., nan,  6.,  0.,  1.],\n",
       "       [ 4.,  5.,  6.,  3.,  8.],\n",
       "       [ 9.,  8.,  9.,  2.,  0.]], dtype=float32)"
      ]
     },
     "execution_count": 9,
     "metadata": {},
     "output_type": "execute_result"
    }
   ],
   "source": [
    "data = data.astype(np.float32)\n",
    "data[0,1] = np.NAN\n",
    "data"
   ]
  },
  {
   "cell_type": "code",
   "execution_count": 12,
   "id": "45361e82",
   "metadata": {},
   "outputs": [
    {
     "data": {
      "text/plain": [
       "True"
      ]
     },
     "execution_count": 12,
     "metadata": {},
     "output_type": "execute_result"
    }
   ],
   "source": [
    "np.NAN != np.NAN   # NAN和NAN不相等"
   ]
  },
  {
   "cell_type": "code",
   "execution_count": 13,
   "id": "f7a2409b",
   "metadata": {},
   "outputs": [
    {
     "data": {
      "text/plain": [
       "nan"
      ]
     },
     "execution_count": 13,
     "metadata": {},
     "output_type": "execute_result"
    }
   ],
   "source": [
    "data[0,1] * 2    #NAN和任何值计算结果都是NAN"
   ]
  },
  {
   "cell_type": "code",
   "execution_count": 17,
   "id": "8afb8b6d",
   "metadata": {},
   "outputs": [
    {
     "data": {
      "text/plain": [
       "array([[ 3., nan,  6.,  0.,  1.],\n",
       "       [ 4.,  5., nan,  3.,  8.],\n",
       "       [ 9.,  8.,  9.,  2.,  0.]], dtype=float32)"
      ]
     },
     "execution_count": 17,
     "metadata": {},
     "output_type": "execute_result"
    }
   ],
   "source": [
    "data[1,2] = np.NAN\n",
    "data"
   ]
  },
  {
   "cell_type": "code",
   "execution_count": 19,
   "id": "de97abc8",
   "metadata": {},
   "outputs": [
    {
     "data": {
      "text/plain": [
       "array([3., 6., 0., 1., 4., 5., 3., 8., 9., 8., 9., 2., 0.], dtype=float32)"
      ]
     },
     "execution_count": 19,
     "metadata": {},
     "output_type": "execute_result"
    }
   ],
   "source": [
    "# 删除NAN值\n",
    "np.isnan(data)  #判断NANA值位置\n",
    "data[~np.isnan(data)]"
   ]
  },
  {
   "cell_type": "code",
   "execution_count": 23,
   "id": "04e45e4c",
   "metadata": {},
   "outputs": [
    {
     "data": {
      "text/plain": [
       "array([[9., 8., 9., 2., 0.]], dtype=float32)"
      ]
     },
     "execution_count": 23,
     "metadata": {},
     "output_type": "execute_result"
    }
   ],
   "source": [
    "lines = np.where(np.isnan(data))[0]\n",
    "np.delete(data,lines,axis = 0)"
   ]
  },
  {
   "cell_type": "code",
   "execution_count": 33,
   "id": "f5c7b780",
   "metadata": {},
   "outputs": [
    {
     "data": {
      "text/plain": [
       "array([148. , 122. , 123.5,  34. ,  56. ,  79. ], dtype=float16)"
      ]
     },
     "execution_count": 33,
     "metadata": {},
     "output_type": "execute_result"
    }
   ],
   "source": [
    "scores = np.loadtxt('nan_scores.csv',delimiter = ',',skiprows = 1,encoding = 'utf-8',dtype = str) #先转换成字符串\n",
    "scores[scores == \"\"] = np.NAN   # 空值转换成NAN\n",
    "scores1 = scores.astype(np.float16)\n",
    "scores1[np.isnan(scores1)] = 0  # 除了delete用axis=0表示行以外，其他大部分函数都是axis=1表示行\n",
    "scores1.sum(axis = 1)"
   ]
  },
  {
   "cell_type": "code",
   "execution_count": 40,
   "id": "200a1f46",
   "metadata": {},
   "outputs": [
    {
     "data": {
      "text/plain": [
       "array([[59. , 89. ],\n",
       "       [90. , 32. ],\n",
       "       [78. , 45.5],\n",
       "       [34. , 55.7],\n",
       "       [56.8, 56. ],\n",
       "       [23. , 56. ]], dtype=float16)"
      ]
     },
     "execution_count": 40,
     "metadata": {},
     "output_type": "execute_result"
    }
   ],
   "source": [
    "scores2 = scores.astype(np.float16)\n",
    "# scores2.shape[1]\n",
    "for x in range(scores2.shape[1]):\n",
    "    col = scores2[:,x]\n",
    "    non_nan_col = col[~np.isnan(col)]\n",
    "    mean = non_nan_col.mean()\n",
    "    col[np.isnan(col)] = mean\n",
    "scores2"
   ]
  },
  {
   "cell_type": "markdown",
   "id": "1d986d8c",
   "metadata": {},
   "source": [
    "# 总结：\n",
    "1. NAN：Not A Number的简写，属于浮点类型，不是一个数字\n",
    "2. INF：无限大，除0的情况下会出现INF\n",
    "3. NAN和所有的值计算结果都是NAN\n",
    "4. NAN不等于NAN\n",
    "5. 可以通过np.isnan来判断某个值是不是NAN\n",
    "6. 处理值的时候，可以通过删除NAN的形式进行处理，可以通过值的替换进行处理\n",
    "7. np.delete比较特殊，通过axis = 0来代表行，其他的大部分函数通过axis = 1 代表行"
   ]
  }
 ],
 "metadata": {
  "kernelspec": {
   "display_name": "Python 3",
   "language": "python",
   "name": "python3"
  },
  "language_info": {
   "codemirror_mode": {
    "name": "ipython",
    "version": 3
   },
   "file_extension": ".py",
   "mimetype": "text/x-python",
   "name": "python",
   "nbconvert_exporter": "python",
   "pygments_lexer": "ipython3",
   "version": "3.8.8"
  }
 },
 "nbformat": 4,
 "nbformat_minor": 5
}
