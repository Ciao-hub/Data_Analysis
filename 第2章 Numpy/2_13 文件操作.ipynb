{
 "cells": [
  {
   "cell_type": "code",
   "execution_count": 1,
   "id": "822690ea",
   "metadata": {},
   "outputs": [],
   "source": [
    "import numpy as np"
   ]
  },
  {
   "cell_type": "code",
   "execution_count": 3,
   "id": "0f789b7d",
   "metadata": {},
   "outputs": [
    {
     "data": {
      "text/plain": [
       "array([[66, 70],\n",
       "       [48,  5],\n",
       "       [60, 60],\n",
       "       [63, 83],\n",
       "       [95,  5],\n",
       "       [ 8, 43],\n",
       "       [54, 73],\n",
       "       [61, 63],\n",
       "       [18, 20],\n",
       "       [75, 72],\n",
       "       [84, 87],\n",
       "       [ 6,  1],\n",
       "       [49, 51],\n",
       "       [88,  1],\n",
       "       [97, 93],\n",
       "       [81, 73],\n",
       "       [75, 12],\n",
       "       [71, 94],\n",
       "       [27, 50],\n",
       "       [59, 46]])"
      ]
     },
     "execution_count": 3,
     "metadata": {},
     "output_type": "execute_result"
    }
   ],
   "source": [
    "# 文件保存\n",
    "scores = np.random.randint(0,100, size = (20, 2))\n",
    "scores"
   ]
  },
  {
   "cell_type": "code",
   "execution_count": 10,
   "id": "02b69271",
   "metadata": {},
   "outputs": [],
   "source": [
    "np.savetxt('scores.csv', scores, delimiter = ',', header = '英语,数学',comments = '',fmt = '%d')"
   ]
  },
  {
   "cell_type": "code",
   "execution_count": 12,
   "id": "0780d619",
   "metadata": {},
   "outputs": [
    {
     "data": {
      "text/plain": [
       "array([[66, 70],\n",
       "       [48,  5],\n",
       "       [60, 60],\n",
       "       [63, 83],\n",
       "       [95,  5],\n",
       "       [ 8, 43],\n",
       "       [54, 73],\n",
       "       [61, 63],\n",
       "       [18, 20],\n",
       "       [75, 72],\n",
       "       [84, 87],\n",
       "       [ 6,  1],\n",
       "       [49, 51],\n",
       "       [88,  1],\n",
       "       [97, 93],\n",
       "       [81, 73],\n",
       "       [75, 12],\n",
       "       [71, 94],\n",
       "       [27, 50],\n",
       "       [59, 46]])"
      ]
     },
     "execution_count": 12,
     "metadata": {},
     "output_type": "execute_result"
    }
   ],
   "source": [
    "# 读取文件\n",
    "b = np.loadtxt('scores.csv',dtype = np.int32,delimiter = ',', skiprows = 1)\n",
    "b"
   ]
  },
  {
   "cell_type": "code",
   "execution_count": 14,
   "id": "78ca4789",
   "metadata": {},
   "outputs": [],
   "source": [
    "# Numpy独有存储方法\n",
    "c  = np.random.randint(0, 10, size = (2,3))\n",
    "np.save('c', c)"
   ]
  },
  {
   "cell_type": "code",
   "execution_count": 15,
   "id": "7e5dcb01",
   "metadata": {},
   "outputs": [
    {
     "data": {
      "text/plain": [
       "array([[0, 6, 4],\n",
       "       [0, 1, 3]])"
      ]
     },
     "execution_count": 15,
     "metadata": {},
     "output_type": "execute_result"
    }
   ],
   "source": [
    "c1 = np.load('c.npy')b\n",
    "c1"
   ]
  },
  {
   "cell_type": "code",
   "execution_count": 16,
   "id": "70d04396",
   "metadata": {},
   "outputs": [],
   "source": [
    "d = np.random.randint(0,10, size = (2,3,4))   #savetxt只能存储一维或者二维数组\n",
    "np.save('d',d)"
   ]
  },
  {
   "cell_type": "markdown",
   "id": "7250e924",
   "metadata": {},
   "source": [
    "# 总结：\n",
    "1. np.savetxt和np.loadtxt一般用来操作csv文件，可以设置header，但是不能存储三维以上数组\n",
    "2. np.save和np.load一般用来存储非文本类型的文件，不可以设置header，但是能存储三维以上数组\n",
    "3. 如果想专门操作csv文件，有一个模块叫做csv，Python内置"
   ]
  }
 ],
 "metadata": {
  "kernelspec": {
   "display_name": "Python 3",
   "language": "python",
   "name": "python3"
  },
  "language_info": {
   "codemirror_mode": {
    "name": "ipython",
    "version": 3
   },
   "file_extension": ".py",
   "mimetype": "text/x-python",
   "name": "python",
   "nbconvert_exporter": "python",
   "pygments_lexer": "ipython3",
   "version": "3.8.8"
  }
 },
 "nbformat": 4,
 "nbformat_minor": 5
}
