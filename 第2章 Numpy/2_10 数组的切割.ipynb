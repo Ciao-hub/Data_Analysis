{
 "cells": [
  {
   "cell_type": "code",
   "execution_count": 1,
   "id": "dcfe43f5",
   "metadata": {},
   "outputs": [],
   "source": [
    "import numpy as np"
   ]
  },
  {
   "cell_type": "code",
   "execution_count": 3,
   "id": "b09fd599",
   "metadata": {},
   "outputs": [
    {
     "data": {
      "text/plain": [
       "array([[8, 7, 8, 4],\n",
       "       [0, 7, 0, 8],\n",
       "       [3, 0, 5, 8]])"
      ]
     },
     "execution_count": 3,
     "metadata": {},
     "output_type": "execute_result"
    }
   ],
   "source": [
    "hs1 = np.random.randint(0,10,size = (3,4))\n",
    "hs1"
   ]
  },
  {
   "cell_type": "code",
   "execution_count": 9,
   "id": "91cb8af5",
   "metadata": {},
   "outputs": [
    {
     "data": {
      "text/plain": [
       "[array([[8, 7],\n",
       "        [0, 7],\n",
       "        [3, 0]]),\n",
       " array([[8, 4],\n",
       "        [0, 8],\n",
       "        [5, 8]])]"
      ]
     },
     "execution_count": 9,
     "metadata": {},
     "output_type": "execute_result"
    }
   ],
   "source": [
    "np.hsplit(hs1,2)   # 水平方向切割，代表可以分成几列"
   ]
  },
  {
   "cell_type": "code",
   "execution_count": 7,
   "id": "0ebb60b1",
   "metadata": {},
   "outputs": [
    {
     "data": {
      "text/plain": [
       "[array([[8],\n",
       "        [0],\n",
       "        [3]]),\n",
       " array([[7],\n",
       "        [7],\n",
       "        [0]]),\n",
       " array([[8, 4],\n",
       "        [0, 8],\n",
       "        [5, 8]])]"
      ]
     },
     "execution_count": 7,
     "metadata": {},
     "output_type": "execute_result"
    }
   ],
   "source": [
    "np.hsplit(hs1,(1,2))"
   ]
  },
  {
   "cell_type": "code",
   "execution_count": 10,
   "id": "17f5ac19",
   "metadata": {},
   "outputs": [
    {
     "data": {
      "text/plain": [
       "array([[9, 9, 6, 1, 8],\n",
       "       [4, 6, 5, 6, 3],\n",
       "       [8, 2, 3, 6, 8],\n",
       "       [6, 2, 2, 4, 4]])"
      ]
     },
     "execution_count": 10,
     "metadata": {},
     "output_type": "execute_result"
    }
   ],
   "source": [
    "vs1 = np.random.randint(0,10,size = (4,5)) # 垂直方向切割，代表可以分成几行\n",
    "vs1"
   ]
  },
  {
   "cell_type": "code",
   "execution_count": 11,
   "id": "ca9d608f",
   "metadata": {},
   "outputs": [
    {
     "data": {
      "text/plain": [
       "[array([[9, 9, 6, 1, 8]]),\n",
       " array([[4, 6, 5, 6, 3]]),\n",
       " array([[8, 2, 3, 6, 8]]),\n",
       " array([[6, 2, 2, 4, 4]])]"
      ]
     },
     "execution_count": 11,
     "metadata": {},
     "output_type": "execute_result"
    }
   ],
   "source": [
    "np.vsplit(vs1,4)"
   ]
  },
  {
   "cell_type": "code",
   "execution_count": 12,
   "id": "92694b1b",
   "metadata": {},
   "outputs": [
    {
     "data": {
      "text/plain": [
       "[array([[9, 9, 6, 1, 8]]),\n",
       " array([[4, 6, 5, 6, 3],\n",
       "        [8, 2, 3, 6, 8]]),\n",
       " array([[6, 2, 2, 4, 4]])]"
      ]
     },
     "execution_count": 12,
     "metadata": {},
     "output_type": "execute_result"
    }
   ],
   "source": [
    "np.vsplit(vs1,(1,3))"
   ]
  },
  {
   "cell_type": "code",
   "execution_count": 15,
   "id": "5572433e",
   "metadata": {},
   "outputs": [
    {
     "data": {
      "text/plain": [
       "[array([[8],\n",
       "        [0],\n",
       "        [3]]),\n",
       " array([[7],\n",
       "        [7],\n",
       "        [0]]),\n",
       " array([[8],\n",
       "        [0],\n",
       "        [5]]),\n",
       " array([[4],\n",
       "        [8],\n",
       "        [8]])]"
      ]
     },
     "execution_count": 15,
     "metadata": {},
     "output_type": "execute_result"
    }
   ],
   "source": [
    "np.split(hs1,4,axis = 1)"
   ]
  },
  {
   "cell_type": "code",
   "execution_count": 16,
   "id": "637ec6ab",
   "metadata": {},
   "outputs": [
    {
     "data": {
      "text/plain": [
       "[array([[9, 9, 6, 1, 8]]),\n",
       " array([[4, 6, 5, 6, 3]]),\n",
       " array([[8, 2, 3, 6, 8]]),\n",
       " array([[6, 2, 2, 4, 4]])]"
      ]
     },
     "execution_count": 16,
     "metadata": {},
     "output_type": "execute_result"
    }
   ],
   "source": [
    "np.split(vs1,4,axis = 0)"
   ]
  },
  {
   "cell_type": "markdown",
   "id": "b5650a4d",
   "metadata": {},
   "source": [
    "# 总结：\n",
    "1. hsplit水平方向切割，代表可以分成几列，切割方式有两种，第一种是直接指定平均分成多少列，第二种是指定切割的下标\n",
    "2. vsplit垂直方向切割，代表可以分成几行，切割方式同上\n",
    "3. split是手动指定axis参数切割，axis = 0代表按照行切割，axis = 1代表按照列切割"
   ]
  }
 ],
 "metadata": {
  "kernelspec": {
   "display_name": "Python 3",
   "language": "python",
   "name": "python3"
  },
  "language_info": {
   "codemirror_mode": {
    "name": "ipython",
    "version": 3
   },
   "file_extension": ".py",
   "mimetype": "text/x-python",
   "name": "python",
   "nbconvert_exporter": "python",
   "pygments_lexer": "ipython3",
   "version": "3.8.8"
  }
 },
 "nbformat": 4,
 "nbformat_minor": 5
}
