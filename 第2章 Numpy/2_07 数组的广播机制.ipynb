{
 "cells": [
  {
   "cell_type": "code",
   "execution_count": 1,
   "id": "3cb59416",
   "metadata": {},
   "outputs": [],
   "source": [
    "import numpy as np"
   ]
  },
  {
   "cell_type": "code",
   "execution_count": 2,
   "id": "75c59ee7",
   "metadata": {},
   "outputs": [
    {
     "data": {
      "text/plain": [
       "array([[4, 2, 4, 1, 4],\n",
       "       [1, 4, 2, 4, 4],\n",
       "       [1, 3, 4, 0, 0]])"
      ]
     },
     "execution_count": 2,
     "metadata": {},
     "output_type": "execute_result"
    }
   ],
   "source": [
    "a1 = np.random.randint(0, 5, size = (3,5))\n",
    "a1"
   ]
  },
  {
   "cell_type": "code",
   "execution_count": 3,
   "id": "3700e5eb",
   "metadata": {},
   "outputs": [
    {
     "data": {
      "text/plain": [
       "array([[8, 4, 8, 2, 8],\n",
       "       [2, 8, 4, 8, 8],\n",
       "       [2, 6, 8, 0, 0]])"
      ]
     },
     "execution_count": 3,
     "metadata": {},
     "output_type": "execute_result"
    }
   ],
   "source": [
    "a1 * 2"
   ]
  },
  {
   "cell_type": "code",
   "execution_count": 4,
   "id": "0b4edec5",
   "metadata": {},
   "outputs": [
    {
     "data": {
      "text/plain": [
       "array([[0, 0, 3, 1, 3],\n",
       "       [2, 1, 2, 0, 0],\n",
       "       [4, 2, 4, 0, 4]])"
      ]
     },
     "execution_count": 4,
     "metadata": {},
     "output_type": "execute_result"
    }
   ],
   "source": [
    "a2 = np.random.randint(0,5,size = (3,5))\n",
    "a2"
   ]
  },
  {
   "cell_type": "code",
   "execution_count": 5,
   "id": "55f8a14a",
   "metadata": {},
   "outputs": [
    {
     "data": {
      "text/plain": [
       "array([[4, 2, 7, 2, 7],\n",
       "       [3, 5, 4, 4, 4],\n",
       "       [5, 5, 8, 0, 4]])"
      ]
     },
     "execution_count": 5,
     "metadata": {},
     "output_type": "execute_result"
    }
   ],
   "source": [
    "a1 + a2"
   ]
  },
  {
   "cell_type": "code",
   "execution_count": 10,
   "id": "917f56da",
   "metadata": {},
   "outputs": [
    {
     "data": {
      "text/plain": [
       "array([[1],\n",
       "       [0],\n",
       "       [4]])"
      ]
     },
     "execution_count": 10,
     "metadata": {},
     "output_type": "execute_result"
    }
   ],
   "source": [
    "a4 = np.random.randint(0,5,size = (3,1))\n",
    "a4"
   ]
  },
  {
   "cell_type": "code",
   "execution_count": 8,
   "id": "f2ec5996",
   "metadata": {},
   "outputs": [
    {
     "data": {
      "text/plain": [
       "array([[5, 3, 5, 2, 5],\n",
       "       [4, 7, 5, 7, 7],\n",
       "       [1, 3, 4, 0, 0]])"
      ]
     },
     "execution_count": 8,
     "metadata": {},
     "output_type": "execute_result"
    }
   ],
   "source": [
    "a1 + a4     #a1的每列依次和a4相加"
   ]
  },
  {
   "cell_type": "code",
   "execution_count": 11,
   "id": "ce219303",
   "metadata": {},
   "outputs": [
    {
     "name": "stdout",
     "output_type": "stream",
     "text": [
      "[[1 3 3 0 0]]\n"
     ]
    }
   ],
   "source": [
    "a5 = np.random.randint(0,5,size = (1,5))\n",
    "print(a5)"
   ]
  },
  {
   "cell_type": "code",
   "execution_count": 12,
   "id": "9ef3b95c",
   "metadata": {},
   "outputs": [
    {
     "data": {
      "text/plain": [
       "array([[5, 5, 7, 1, 4],\n",
       "       [2, 7, 5, 4, 4],\n",
       "       [2, 6, 7, 0, 0]])"
      ]
     },
     "execution_count": 12,
     "metadata": {},
     "output_type": "execute_result"
    }
   ],
   "source": [
    "a1 + a5   #a1的每行依次和a5相加"
   ]
  },
  {
   "cell_type": "code",
   "execution_count": 14,
   "id": "9992c3ea",
   "metadata": {},
   "outputs": [
    {
     "name": "stdout",
     "output_type": "stream",
     "text": [
      "[[[3 0]\n",
      "  [1 3]\n",
      "  [3 0]\n",
      "  [4 3]\n",
      "  [1 4]\n",
      "  [2 1]\n",
      "  [1 1]\n",
      "  [3 4]]\n",
      "\n",
      " [[0 0]\n",
      "  [2 2]\n",
      "  [0 1]\n",
      "  [1 3]\n",
      "  [4 1]\n",
      "  [1 3]\n",
      "  [0 1]\n",
      "  [3 4]]\n",
      "\n",
      " [[3 1]\n",
      "  [4 0]\n",
      "  [2 0]\n",
      "  [3 3]\n",
      "  [1 0]\n",
      "  [0 3]\n",
      "  [0 1]\n",
      "  [2 3]]]\n",
      "==============================\n"
     ]
    },
    {
     "data": {
      "text/plain": [
       "array([[[6, 1],\n",
       "        [2, 3],\n",
       "        [5, 1],\n",
       "        [8, 3],\n",
       "        [3, 8],\n",
       "        [2, 2],\n",
       "        [5, 3],\n",
       "        [4, 4]],\n",
       "\n",
       "       [[3, 1],\n",
       "        [3, 2],\n",
       "        [2, 2],\n",
       "        [5, 3],\n",
       "        [6, 5],\n",
       "        [1, 4],\n",
       "        [4, 3],\n",
       "        [4, 4]],\n",
       "\n",
       "       [[6, 2],\n",
       "        [5, 0],\n",
       "        [4, 1],\n",
       "        [7, 3],\n",
       "        [3, 4],\n",
       "        [0, 4],\n",
       "        [4, 3],\n",
       "        [3, 3]]])"
      ]
     },
     "execution_count": 14,
     "metadata": {},
     "output_type": "execute_result"
    }
   ],
   "source": [
    "a6 = np.random.randint(0,5,size = (3,8,2))\n",
    "print(a6)\n",
    "a7 = np.random.randint(0,5,size = (8,2))\n",
    "print(\"=\"*30)\n",
    "a6 + a7"
   ]
  },
  {
   "cell_type": "markdown",
   "id": "c8a86164",
   "metadata": {},
   "source": [
    "# 总结：\n",
    "1. 数组和数字之间运算没有问题\n",
    "2. 如果两个shape相同的数组可以运算\n",
    "3. 如果shape不同，需要考虑是否满足广播原则"
   ]
  }
 ],
 "metadata": {
  "kernelspec": {
   "display_name": "Python 3",
   "language": "python",
   "name": "python3"
  },
  "language_info": {
   "codemirror_mode": {
    "name": "ipython",
    "version": 3
   },
   "file_extension": ".py",
   "mimetype": "text/x-python",
   "name": "python",
   "nbconvert_exporter": "python",
   "pygments_lexer": "ipython3",
   "version": "3.8.8"
  }
 },
 "nbformat": 4,
 "nbformat_minor": 5
}
