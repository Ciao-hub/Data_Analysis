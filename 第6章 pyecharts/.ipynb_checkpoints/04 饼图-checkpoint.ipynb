{
 "cells": [
  {
   "cell_type": "code",
   "execution_count": 1,
   "id": "9094997d-9d87-402a-9751-2fc926ef1ab2",
   "metadata": {},
   "outputs": [],
   "source": [
    "from pyecharts import options as opts\n",
    "from pyecharts.charts import Pie\n",
    "from pyecharts.faker import Faker"
   ]
  },
  {
   "cell_type": "code",
   "execution_count": 2,
   "id": "4fcdaa28-b8eb-439b-954c-c9a4fab3845d",
   "metadata": {},
   "outputs": [],
   "source": [
    "from pyecharts.globals import CurrentConfig, NotebookType\n",
    "CurrentConfig.NOTEBOOK_TYPE = NotebookType.JUPYTER_LAB"
   ]
  },
  {
   "cell_type": "code",
   "execution_count": 17,
   "id": "86aedecd-26cd-4c7d-9add-84f91674cde8",
   "metadata": {},
   "outputs": [
    {
     "name": "stdout",
     "output_type": "stream",
     "text": [
      "['小米', 118]\n",
      "['三星', 91]\n",
      "['华为', 20]\n",
      "['苹果', 46]\n",
      "['魅族', 24]\n",
      "['VIVO', 38]\n",
      "['OPPO', 72]\n"
     ]
    }
   ],
   "source": [
    "for z in zip(Faker.choose(),Faker.values()):\n",
    "    print(list(z))"
   ]
  },
  {
   "cell_type": "code",
   "execution_count": 23,
   "id": "f3c07d37-1dcf-45c2-b4cd-18e25ecb7b89",
   "metadata": {},
   "outputs": [
    {
     "data": {
      "application/javascript": [
       "new Promise(function(resolve, reject) {\n",
       "    var script = document.createElement(\"script\");\n",
       "    script.onload = resolve;\n",
       "    script.onerror = reject;\n",
       "    script.src = \"https://assets.pyecharts.org/assets/echarts.min.js\";\n",
       "    document.head.appendChild(script);\n",
       "}).then(() => {\n",
       "\n",
       "});"
      ],
      "text/plain": [
       "<pyecharts.render.display.Javascript at 0x1a0b50bbf10>"
      ]
     },
     "execution_count": 23,
     "metadata": {},
     "output_type": "execute_result"
    }
   ],
   "source": [
    "c = (\n",
    "    Pie(init_opts = opts.InitOpts(width = '800px',height = '500px'))\n",
    "    .add('',[list(z) for z in zip(Faker.choose(),Faker.values())])  # list(z) for z in zip()\n",
    "    .set_colors(['blue','green','yellow','red','pink','orange','purple'])  #颜色列表\n",
    "    .set_global_opts(title_opts = opts.TitleOpts(title = 'Pie 设置颜色'))\n",
    "    .set_series_opts(label_opts = opts.LabelOpts(formatter = \"{b}:{c}\"))\n",
    ")\n",
    "\n",
    "c.load_javascript()"
   ]
  },
  {
   "cell_type": "code",
   "execution_count": 24,
   "id": "a7723699-9c87-4b49-8cc0-0a2b26b389c9",
   "metadata": {},
   "outputs": [
    {
     "data": {
      "text/html": [
       "<!DOCTYPE html>\n",
       "<html>\n",
       "<head>\n",
       "    <meta charset=\"UTF-8\">\n",
       "</head>\n",
       "<body>\n",
       "        <div id=\"539b63ec41b14e3e9ab994efe4de952b\" class=\"chart-container\" style=\"width:800px; height:500px;\"></div>\n",
       "    <script>\n",
       "        var chart_539b63ec41b14e3e9ab994efe4de952b = echarts.init(\n",
       "            document.getElementById('539b63ec41b14e3e9ab994efe4de952b'), 'white', {renderer: 'canvas'});\n",
       "        var option_539b63ec41b14e3e9ab994efe4de952b = {\n",
       "    \"animation\": true,\n",
       "    \"animationThreshold\": 2000,\n",
       "    \"animationDuration\": 1000,\n",
       "    \"animationEasing\": \"cubicOut\",\n",
       "    \"animationDelay\": 0,\n",
       "    \"animationDurationUpdate\": 300,\n",
       "    \"animationEasingUpdate\": \"cubicOut\",\n",
       "    \"animationDelayUpdate\": 0,\n",
       "    \"color\": [\n",
       "        \"blue\",\n",
       "        \"green\",\n",
       "        \"yellow\",\n",
       "        \"red\",\n",
       "        \"pink\",\n",
       "        \"orange\",\n",
       "        \"purple\"\n",
       "    ],\n",
       "    \"series\": [\n",
       "        {\n",
       "            \"type\": \"pie\",\n",
       "            \"clockwise\": true,\n",
       "            \"data\": [\n",
       "                {\n",
       "                    \"name\": \"\\u8349\\u8393\",\n",
       "                    \"value\": 128\n",
       "                },\n",
       "                {\n",
       "                    \"name\": \"\\u8292\\u679c\",\n",
       "                    \"value\": 122\n",
       "                },\n",
       "                {\n",
       "                    \"name\": \"\\u8461\\u8404\",\n",
       "                    \"value\": 131\n",
       "                },\n",
       "                {\n",
       "                    \"name\": \"\\u96ea\\u68a8\",\n",
       "                    \"value\": 46\n",
       "                },\n",
       "                {\n",
       "                    \"name\": \"\\u897f\\u74dc\",\n",
       "                    \"value\": 88\n",
       "                },\n",
       "                {\n",
       "                    \"name\": \"\\u67e0\\u6aac\",\n",
       "                    \"value\": 42\n",
       "                },\n",
       "                {\n",
       "                    \"name\": \"\\u8f66\\u5398\\u5b50\",\n",
       "                    \"value\": 68\n",
       "                }\n",
       "            ],\n",
       "            \"radius\": [\n",
       "                \"0%\",\n",
       "                \"75%\"\n",
       "            ],\n",
       "            \"center\": [\n",
       "                \"50%\",\n",
       "                \"50%\"\n",
       "            ],\n",
       "            \"label\": {\n",
       "                \"show\": true,\n",
       "                \"position\": \"top\",\n",
       "                \"margin\": 8,\n",
       "                \"formatter\": \"{b}:{c}\"\n",
       "            },\n",
       "            \"rippleEffect\": {\n",
       "                \"show\": true,\n",
       "                \"brushType\": \"stroke\",\n",
       "                \"scale\": 2.5,\n",
       "                \"period\": 4\n",
       "            }\n",
       "        }\n",
       "    ],\n",
       "    \"legend\": [\n",
       "        {\n",
       "            \"data\": [\n",
       "                \"\\u8349\\u8393\",\n",
       "                \"\\u8292\\u679c\",\n",
       "                \"\\u8461\\u8404\",\n",
       "                \"\\u96ea\\u68a8\",\n",
       "                \"\\u897f\\u74dc\",\n",
       "                \"\\u67e0\\u6aac\",\n",
       "                \"\\u8f66\\u5398\\u5b50\"\n",
       "            ],\n",
       "            \"selected\": {},\n",
       "            \"show\": true,\n",
       "            \"padding\": 5,\n",
       "            \"itemGap\": 10,\n",
       "            \"itemWidth\": 25,\n",
       "            \"itemHeight\": 14\n",
       "        }\n",
       "    ],\n",
       "    \"tooltip\": {\n",
       "        \"show\": true,\n",
       "        \"trigger\": \"item\",\n",
       "        \"triggerOn\": \"mousemove|click\",\n",
       "        \"axisPointer\": {\n",
       "            \"type\": \"line\"\n",
       "        },\n",
       "        \"showContent\": true,\n",
       "        \"alwaysShowContent\": false,\n",
       "        \"showDelay\": 0,\n",
       "        \"hideDelay\": 100,\n",
       "        \"textStyle\": {\n",
       "            \"fontSize\": 14\n",
       "        },\n",
       "        \"borderWidth\": 0,\n",
       "        \"padding\": 5\n",
       "    },\n",
       "    \"title\": [\n",
       "        {\n",
       "            \"text\": \"Pie \\u8bbe\\u7f6e\\u989c\\u8272\",\n",
       "            \"padding\": 5,\n",
       "            \"itemGap\": 10\n",
       "        }\n",
       "    ]\n",
       "};\n",
       "        chart_539b63ec41b14e3e9ab994efe4de952b.setOption(option_539b63ec41b14e3e9ab994efe4de952b);\n",
       "    </script>\n",
       "</body>\n",
       "</html>\n"
      ],
      "text/plain": [
       "<pyecharts.render.display.HTML at 0x1a0b50bf400>"
      ]
     },
     "execution_count": 24,
     "metadata": {},
     "output_type": "execute_result"
    }
   ],
   "source": [
    "c.render_notebook()"
   ]
  }
 ],
 "metadata": {
  "kernelspec": {
   "display_name": "Python 3",
   "language": "python",
   "name": "python3"
  },
  "language_info": {
   "codemirror_mode": {
    "name": "ipython",
    "version": 3
   },
   "file_extension": ".py",
   "mimetype": "text/x-python",
   "name": "python",
   "nbconvert_exporter": "python",
   "pygments_lexer": "ipython3",
   "version": "3.8.8"
  }
 },
 "nbformat": 4,
 "nbformat_minor": 5
}
