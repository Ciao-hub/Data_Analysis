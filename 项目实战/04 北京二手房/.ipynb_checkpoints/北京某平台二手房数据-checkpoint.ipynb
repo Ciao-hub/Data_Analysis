{
 "cells": [
  {
   "cell_type": "code",
   "execution_count": 1,
   "id": "87541dfd-2d2e-4c25-ae97-e6e1bdb57c92",
   "metadata": {},
   "outputs": [],
   "source": [
    "import pandas as pd\n",
    "import pyecharts.options as opts\n",
    "from pyecharts.charts import Map"
   ]
  },
  {
   "cell_type": "code",
   "execution_count": 2,
   "id": "869b1648-8227-4057-bd38-643a9ca6a31d",
   "metadata": {},
   "outputs": [],
   "source": [
    "from pyecharts.globals import CurrentConfig, NotebookType\n",
    "CurrentConfig.NOTEBOOK_TYPE = NotebookType.JUPYTER_LAB"
   ]
  },
  {
   "cell_type": "markdown",
   "id": "fe7d42c1-3e3b-4943-b61c-3f3ac62dd586",
   "metadata": {},
   "source": [
    "### 读取数据"
   ]
  },
  {
   "cell_type": "code",
   "execution_count": 22,
   "id": "be1f0692-c534-45a3-9dda-34d947c31ab8",
   "metadata": {},
   "outputs": [
    {
     "data": {
      "text/html": [
       "<div>\n",
       "<style scoped>\n",
       "    .dataframe tbody tr th:only-of-type {\n",
       "        vertical-align: middle;\n",
       "    }\n",
       "\n",
       "    .dataframe tbody tr th {\n",
       "        vertical-align: top;\n",
       "    }\n",
       "\n",
       "    .dataframe thead th {\n",
       "        text-align: right;\n",
       "    }\n",
       "</style>\n",
       "<table border=\"1\" class=\"dataframe\">\n",
       "  <thead>\n",
       "    <tr style=\"text-align: right;\">\n",
       "      <th></th>\n",
       "      <th>市区</th>\n",
       "      <th>小区</th>\n",
       "      <th>户型</th>\n",
       "      <th>朝向</th>\n",
       "      <th>楼层</th>\n",
       "      <th>装修情况</th>\n",
       "      <th>电梯</th>\n",
       "      <th>面积(㎡)</th>\n",
       "      <th>价格(万元)</th>\n",
       "      <th>年份</th>\n",
       "    </tr>\n",
       "  </thead>\n",
       "  <tbody>\n",
       "    <tr>\n",
       "      <th>0</th>\n",
       "      <td>朝阳</td>\n",
       "      <td>育慧里一区</td>\n",
       "      <td>1室0厅</td>\n",
       "      <td>西</td>\n",
       "      <td>7</td>\n",
       "      <td>精装</td>\n",
       "      <td>有电梯</td>\n",
       "      <td>52.0</td>\n",
       "      <td>343.0</td>\n",
       "      <td>2001</td>\n",
       "    </tr>\n",
       "    <tr>\n",
       "      <th>1</th>\n",
       "      <td>朝阳</td>\n",
       "      <td>大西洋新城A区</td>\n",
       "      <td>2室2厅</td>\n",
       "      <td>南北</td>\n",
       "      <td>10</td>\n",
       "      <td>精装</td>\n",
       "      <td>有电梯</td>\n",
       "      <td>86.0</td>\n",
       "      <td>835.0</td>\n",
       "      <td>1999</td>\n",
       "    </tr>\n",
       "    <tr>\n",
       "      <th>2</th>\n",
       "      <td>朝阳</td>\n",
       "      <td>团结湖路</td>\n",
       "      <td>2室1厅</td>\n",
       "      <td>东西</td>\n",
       "      <td>6</td>\n",
       "      <td>精装</td>\n",
       "      <td>无电梯</td>\n",
       "      <td>65.0</td>\n",
       "      <td>430.0</td>\n",
       "      <td>1980</td>\n",
       "    </tr>\n",
       "    <tr>\n",
       "      <th>3</th>\n",
       "      <td>朝阳</td>\n",
       "      <td>尚家楼48号院</td>\n",
       "      <td>2室1厅</td>\n",
       "      <td>南北</td>\n",
       "      <td>12</td>\n",
       "      <td>精装</td>\n",
       "      <td>有电梯</td>\n",
       "      <td>75.0</td>\n",
       "      <td>610.0</td>\n",
       "      <td>1998</td>\n",
       "    </tr>\n",
       "    <tr>\n",
       "      <th>4</th>\n",
       "      <td>朝阳</td>\n",
       "      <td>望京西园一区</td>\n",
       "      <td>3室2厅</td>\n",
       "      <td>南北</td>\n",
       "      <td>6</td>\n",
       "      <td>精装</td>\n",
       "      <td>无电梯</td>\n",
       "      <td>115.0</td>\n",
       "      <td>710.0</td>\n",
       "      <td>1997</td>\n",
       "    </tr>\n",
       "  </tbody>\n",
       "</table>\n",
       "</div>"
      ],
      "text/plain": [
       "   市区       小区    户型  朝向  楼层 装修情况   电梯  面积(㎡)  价格(万元)    年份\n",
       "0  朝阳    育慧里一区  1室0厅   西   7   精装  有电梯   52.0   343.0  2001\n",
       "1  朝阳  大西洋新城A区  2室2厅  南北  10   精装  有电梯   86.0   835.0  1999\n",
       "2  朝阳     团结湖路  2室1厅  东西   6   精装  无电梯   65.0   430.0  1980\n",
       "3  朝阳  尚家楼48号院  2室1厅  南北  12   精装  有电梯   75.0   610.0  1998\n",
       "4  朝阳   望京西园一区  3室2厅  南北   6   精装  无电梯  115.0   710.0  1997"
      ]
     },
     "execution_count": 22,
     "metadata": {},
     "output_type": "execute_result"
    }
   ],
   "source": [
    "df = pd.read_csv('二手房数据.csv', encoding = 'gbk')  # https://docs.python.org/3/library/codecs.html#standard-encodings\n",
    "df.head()"
   ]
  },
  {
   "cell_type": "markdown",
   "id": "0eec3990-415f-42be-8a54-b9b74a4fe88c",
   "metadata": {},
   "source": [
    "### 查看数据描述"
   ]
  },
  {
   "cell_type": "code",
   "execution_count": 23,
   "id": "165abc18-1896-42f0-9d72-47eae96bd6ac",
   "metadata": {},
   "outputs": [
    {
     "data": {
      "text/html": [
       "<div>\n",
       "<style scoped>\n",
       "    .dataframe tbody tr th:only-of-type {\n",
       "        vertical-align: middle;\n",
       "    }\n",
       "\n",
       "    .dataframe tbody tr th {\n",
       "        vertical-align: top;\n",
       "    }\n",
       "\n",
       "    .dataframe thead th {\n",
       "        text-align: right;\n",
       "    }\n",
       "</style>\n",
       "<table border=\"1\" class=\"dataframe\">\n",
       "  <thead>\n",
       "    <tr style=\"text-align: right;\">\n",
       "      <th></th>\n",
       "      <th>楼层</th>\n",
       "      <th>面积(㎡)</th>\n",
       "      <th>价格(万元)</th>\n",
       "      <th>年份</th>\n",
       "    </tr>\n",
       "  </thead>\n",
       "  <tbody>\n",
       "    <tr>\n",
       "      <th>count</th>\n",
       "      <td>23677.000000</td>\n",
       "      <td>23677.000000</td>\n",
       "      <td>23677.000000</td>\n",
       "      <td>23677.000000</td>\n",
       "    </tr>\n",
       "    <tr>\n",
       "      <th>mean</th>\n",
       "      <td>12.764877</td>\n",
       "      <td>99.388616</td>\n",
       "      <td>610.668319</td>\n",
       "      <td>2001.326519</td>\n",
       "    </tr>\n",
       "    <tr>\n",
       "      <th>std</th>\n",
       "      <td>7.644138</td>\n",
       "      <td>51.270606</td>\n",
       "      <td>411.452107</td>\n",
       "      <td>9.001996</td>\n",
       "    </tr>\n",
       "    <tr>\n",
       "      <th>min</th>\n",
       "      <td>1.000000</td>\n",
       "      <td>15.000000</td>\n",
       "      <td>60.000000</td>\n",
       "      <td>1950.000000</td>\n",
       "    </tr>\n",
       "    <tr>\n",
       "      <th>25%</th>\n",
       "      <td>6.000000</td>\n",
       "      <td>66.000000</td>\n",
       "      <td>365.000000</td>\n",
       "      <td>1997.000000</td>\n",
       "    </tr>\n",
       "    <tr>\n",
       "      <th>50%</th>\n",
       "      <td>11.000000</td>\n",
       "      <td>88.000000</td>\n",
       "      <td>499.000000</td>\n",
       "      <td>2003.000000</td>\n",
       "    </tr>\n",
       "    <tr>\n",
       "      <th>75%</th>\n",
       "      <td>18.000000</td>\n",
       "      <td>118.000000</td>\n",
       "      <td>717.000000</td>\n",
       "      <td>2007.000000</td>\n",
       "    </tr>\n",
       "    <tr>\n",
       "      <th>max</th>\n",
       "      <td>57.000000</td>\n",
       "      <td>1019.000000</td>\n",
       "      <td>6000.000000</td>\n",
       "      <td>2017.000000</td>\n",
       "    </tr>\n",
       "  </tbody>\n",
       "</table>\n",
       "</div>"
      ],
      "text/plain": [
       "                 楼层         面积(㎡)        价格(万元)            年份\n",
       "count  23677.000000  23677.000000  23677.000000  23677.000000\n",
       "mean      12.764877     99.388616    610.668319   2001.326519\n",
       "std        7.644138     51.270606    411.452107      9.001996\n",
       "min        1.000000     15.000000     60.000000   1950.000000\n",
       "25%        6.000000     66.000000    365.000000   1997.000000\n",
       "50%       11.000000     88.000000    499.000000   2003.000000\n",
       "75%       18.000000    118.000000    717.000000   2007.000000\n",
       "max       57.000000   1019.000000   6000.000000   2017.000000"
      ]
     },
     "execution_count": 23,
     "metadata": {},
     "output_type": "execute_result"
    }
   ],
   "source": [
    "df.describe()"
   ]
  },
  {
   "cell_type": "markdown",
   "id": "5f1aed17-6e6b-4b00-9289-4e52dcf7e6bf",
   "metadata": {},
   "source": [
    "### 查看是否有缺失数据"
   ]
  },
  {
   "cell_type": "code",
   "execution_count": 5,
   "id": "2f86e6d6-2d7b-489a-8c6d-06820432c5b9",
   "metadata": {},
   "outputs": [
    {
     "data": {
      "text/plain": [
       "市区           0\n",
       "小区           0\n",
       "户型           0\n",
       "朝向           0\n",
       "楼层           0\n",
       "装修情况         0\n",
       "电梯        8257\n",
       "面积(㎡)        0\n",
       "价格(万元)       0\n",
       "年份           0\n",
       "dtype: int64"
      ]
     },
     "execution_count": 5,
     "metadata": {},
     "output_type": "execute_result"
    }
   ],
   "source": [
    "df.isna().sum()"
   ]
  },
  {
   "cell_type": "markdown",
   "id": "118f6b9a-f8de-4554-8df1-01cbff33e1d2",
   "metadata": {
    "tags": []
   },
   "source": [
    "### 查看电梯列共有几种值"
   ]
  },
  {
   "cell_type": "code",
   "execution_count": 6,
   "id": "88780620-b5a8-4684-8a26-19f5c481584b",
   "metadata": {},
   "outputs": [
    {
     "data": {
      "text/plain": [
       "array(['有电梯', '无电梯', nan], dtype=object)"
      ]
     },
     "execution_count": 6,
     "metadata": {},
     "output_type": "execute_result"
    }
   ],
   "source": [
    "df['电梯'].unique()    # unique 给出Series唯一值"
   ]
  },
  {
   "cell_type": "markdown",
   "id": "5ad303ea-8520-476b-ad1d-d0f42d2f0067",
   "metadata": {
    "tags": []
   },
   "source": [
    "### 填充缺失值"
   ]
  },
  {
   "cell_type": "code",
   "execution_count": 7,
   "id": "c267c6bc-faba-4596-a16f-aff6d7c2c50d",
   "metadata": {},
   "outputs": [],
   "source": [
    "df['电梯'].fillna('未知', inplace = True)"
   ]
  },
  {
   "cell_type": "code",
   "execution_count": 8,
   "id": "e9905b5c-83c2-48d3-bca0-d4224e0958e4",
   "metadata": {},
   "outputs": [
    {
     "data": {
      "text/plain": [
       "市区        0\n",
       "小区        0\n",
       "户型        0\n",
       "朝向        0\n",
       "楼层        0\n",
       "装修情况      0\n",
       "电梯        0\n",
       "面积(㎡)     0\n",
       "价格(万元)    0\n",
       "年份        0\n",
       "dtype: int64"
      ]
     },
     "execution_count": 8,
     "metadata": {},
     "output_type": "execute_result"
    }
   ],
   "source": [
    "df.isna().sum()"
   ]
  },
  {
   "cell_type": "code",
   "execution_count": 9,
   "id": "b00ec156-9db3-444b-8cc6-c495412959af",
   "metadata": {},
   "outputs": [
    {
     "data": {
      "text/plain": [
       "array(['有电梯', '无电梯', '未知'], dtype=object)"
      ]
     },
     "execution_count": 9,
     "metadata": {},
     "output_type": "execute_result"
    }
   ],
   "source": [
    "df['电梯'].unique()"
   ]
  },
  {
   "cell_type": "markdown",
   "id": "55acbdc2-0dc4-4fc3-8904-16034aba6b61",
   "metadata": {},
   "source": [
    "### 查看房屋朝向数据"
   ]
  },
  {
   "cell_type": "code",
   "execution_count": 10,
   "id": "64e320e0-c432-4144-b147-ff848e278407",
   "metadata": {},
   "outputs": [
    {
     "data": {
      "text/plain": [
       "array(['西', '南北', '东西', '南西', '西南', '东南', '南', '东北', '东', '西北', '北'],\n",
       "      dtype=object)"
      ]
     },
     "execution_count": 10,
     "metadata": {},
     "output_type": "execute_result"
    }
   ],
   "source": [
    "df['朝向'].unique()"
   ]
  },
  {
   "cell_type": "markdown",
   "id": "9763050b-998a-4438-af0b-47769f539b1d",
   "metadata": {},
   "source": [
    "朝向数据里面包含了“西南”和“南西”两个方向，合并为一个方向“西南”"
   ]
  },
  {
   "cell_type": "code",
   "execution_count": 11,
   "id": "d64beddc-626a-4e37-bd59-eebd956425ed",
   "metadata": {},
   "outputs": [
    {
     "data": {
      "text/plain": [
       "array(['西', '南北', '东西', '西南', '东南', '南', '东北', '东', '西北', '北'],\n",
       "      dtype=object)"
      ]
     },
     "execution_count": 11,
     "metadata": {},
     "output_type": "execute_result"
    }
   ],
   "source": [
    "df['朝向'] = df['朝向'].str.replace('南西','西南')\n",
    "df['朝向'].unique()"
   ]
  },
  {
   "cell_type": "markdown",
   "id": "7d150257-13f1-4407-b727-43f2dc49d674",
   "metadata": {},
   "source": [
    "### 统计各城区二手房数量"
   ]
  },
  {
   "cell_type": "code",
   "execution_count": 12,
   "id": "2cecc0d8-2665-4a98-863c-f46b9fe583af",
   "metadata": {},
   "outputs": [
    {
     "data": {
      "text/plain": [
       "市区\n",
       "海淀     2983\n",
       "朝阳     2973\n",
       "丰台     2952\n",
       "昌平     2811\n",
       "西城     2130\n",
       "大兴     2115\n",
       "通州     1602\n",
       "东城     1533\n",
       "房山     1442\n",
       "顺义     1221\n",
       "石景山     882\n",
       "门头沟     496\n",
       "延庆      469\n",
       "平谷       41\n",
       "怀柔       15\n",
       "密云       12\n",
       "Name: 小区, dtype: int64"
      ]
     },
     "execution_count": 12,
     "metadata": {},
     "output_type": "execute_result"
    }
   ],
   "source": [
    "g = df.groupby('市区')\n",
    "df_region = g.count()['小区']\n",
    "region = df_region.index.tolist()\n",
    "count = df_region.values.tolist()\n",
    "df_region.sort_values(ascending = False)"
   ]
  },
  {
   "cell_type": "markdown",
   "id": "a647cfd7-8054-4b5e-9e8d-c862b853a028",
   "metadata": {},
   "source": [
    "### 北京各城区二手房数量地图分布"
   ]
  },
  {
   "cell_type": "code",
   "execution_count": 24,
   "id": "f8ca8600-eb85-4b4a-9ca3-1188b3af4172",
   "metadata": {},
   "outputs": [
    {
     "data": {
      "application/javascript": [
       "new Promise(function(resolve, reject) {\n",
       "    var script = document.createElement(\"script\");\n",
       "    script.onload = resolve;\n",
       "    script.onerror = reject;\n",
       "    script.src = \"https://assets.pyecharts.org/assets/echarts.min.js\";\n",
       "    document.head.appendChild(script);\n",
       "}).then(() => {\n",
       "new Promise(function(resolve, reject) {\n",
       "    var script = document.createElement(\"script\");\n",
       "    script.onload = resolve;\n",
       "    script.onerror = reject;\n",
       "    script.src = \"https://assets.pyecharts.org/assets/maps/beijing.js\";\n",
       "    document.head.appendChild(script);\n",
       "}).then(() => {\n",
       "\n",
       "});\n",
       "});"
      ],
      "text/plain": [
       "<pyecharts.render.display.Javascript at 0x271e7e2ab50>"
      ]
     },
     "execution_count": 24,
     "metadata": {},
     "output_type": "execute_result"
    }
   ],
   "source": [
    "new = [x + '区' for x in region]   # 源文件里没有'区',无法和Map()里数据对应\n",
    "m = (\n",
    "    Map()\n",
    "    .add('',[list(z) for z in zip(new,count)],'北京')\n",
    "    .set_global_opts(\n",
    "        title_opts = opts.TitleOpts(title = '北京各城区二手房分布'),\n",
    "        visualmap_opts = opts.VisualMapOpts(max_ = 3000)\n",
    "    )\n",
    ")\n",
    "\n",
    "m.load_javascript()"
   ]
  },
  {
   "cell_type": "code",
   "execution_count": 25,
   "id": "988d37b0-5223-48a5-8808-e26234af2065",
   "metadata": {},
   "outputs": [
    {
     "data": {
      "text/html": [
       "<!DOCTYPE html>\n",
       "<html>\n",
       "<head>\n",
       "    <meta charset=\"UTF-8\">\n",
       "</head>\n",
       "<body>\n",
       "        <div id=\"21d4b5566e844bf3b182196bb5d53c9e\" class=\"chart-container\" style=\"width:900px; height:500px;\"></div>\n",
       "    <script>\n",
       "        var chart_21d4b5566e844bf3b182196bb5d53c9e = echarts.init(\n",
       "            document.getElementById('21d4b5566e844bf3b182196bb5d53c9e'), 'white', {renderer: 'canvas'});\n",
       "        var option_21d4b5566e844bf3b182196bb5d53c9e = {\n",
       "    \"animation\": true,\n",
       "    \"animationThreshold\": 2000,\n",
       "    \"animationDuration\": 1000,\n",
       "    \"animationEasing\": \"cubicOut\",\n",
       "    \"animationDelay\": 0,\n",
       "    \"animationDurationUpdate\": 300,\n",
       "    \"animationEasingUpdate\": \"cubicOut\",\n",
       "    \"animationDelayUpdate\": 0,\n",
       "    \"color\": [\n",
       "        \"#c23531\",\n",
       "        \"#2f4554\",\n",
       "        \"#61a0a8\",\n",
       "        \"#d48265\",\n",
       "        \"#749f83\",\n",
       "        \"#ca8622\",\n",
       "        \"#bda29a\",\n",
       "        \"#6e7074\",\n",
       "        \"#546570\",\n",
       "        \"#c4ccd3\",\n",
       "        \"#f05b72\",\n",
       "        \"#ef5b9c\",\n",
       "        \"#f47920\",\n",
       "        \"#905a3d\",\n",
       "        \"#fab27b\",\n",
       "        \"#2a5caa\",\n",
       "        \"#444693\",\n",
       "        \"#726930\",\n",
       "        \"#b2d235\",\n",
       "        \"#6d8346\",\n",
       "        \"#ac6767\",\n",
       "        \"#1d953f\",\n",
       "        \"#6950a1\",\n",
       "        \"#918597\"\n",
       "    ],\n",
       "    \"series\": [\n",
       "        {\n",
       "            \"type\": \"map\",\n",
       "            \"label\": {\n",
       "                \"show\": true,\n",
       "                \"position\": \"top\",\n",
       "                \"margin\": 8\n",
       "            },\n",
       "            \"mapType\": \"\\u5317\\u4eac\",\n",
       "            \"data\": [\n",
       "                {\n",
       "                    \"name\": \"\\u4e1c\\u57ce\\u533a\",\n",
       "                    \"value\": 1533\n",
       "                },\n",
       "                {\n",
       "                    \"name\": \"\\u4e30\\u53f0\\u533a\",\n",
       "                    \"value\": 2952\n",
       "                },\n",
       "                {\n",
       "                    \"name\": \"\\u5927\\u5174\\u533a\",\n",
       "                    \"value\": 2115\n",
       "                },\n",
       "                {\n",
       "                    \"name\": \"\\u5bc6\\u4e91\\u533a\",\n",
       "                    \"value\": 12\n",
       "                },\n",
       "                {\n",
       "                    \"name\": \"\\u5e73\\u8c37\\u533a\",\n",
       "                    \"value\": 41\n",
       "                },\n",
       "                {\n",
       "                    \"name\": \"\\u5ef6\\u5e86\\u533a\",\n",
       "                    \"value\": 469\n",
       "                },\n",
       "                {\n",
       "                    \"name\": \"\\u6000\\u67d4\\u533a\",\n",
       "                    \"value\": 15\n",
       "                },\n",
       "                {\n",
       "                    \"name\": \"\\u623f\\u5c71\\u533a\",\n",
       "                    \"value\": 1442\n",
       "                },\n",
       "                {\n",
       "                    \"name\": \"\\u660c\\u5e73\\u533a\",\n",
       "                    \"value\": 2811\n",
       "                },\n",
       "                {\n",
       "                    \"name\": \"\\u671d\\u9633\\u533a\",\n",
       "                    \"value\": 2973\n",
       "                },\n",
       "                {\n",
       "                    \"name\": \"\\u6d77\\u6dc0\\u533a\",\n",
       "                    \"value\": 2983\n",
       "                },\n",
       "                {\n",
       "                    \"name\": \"\\u77f3\\u666f\\u5c71\\u533a\",\n",
       "                    \"value\": 882\n",
       "                },\n",
       "                {\n",
       "                    \"name\": \"\\u897f\\u57ce\\u533a\",\n",
       "                    \"value\": 2130\n",
       "                },\n",
       "                {\n",
       "                    \"name\": \"\\u901a\\u5dde\\u533a\",\n",
       "                    \"value\": 1602\n",
       "                },\n",
       "                {\n",
       "                    \"name\": \"\\u95e8\\u5934\\u6c9f\\u533a\",\n",
       "                    \"value\": 496\n",
       "                },\n",
       "                {\n",
       "                    \"name\": \"\\u987a\\u4e49\\u533a\",\n",
       "                    \"value\": 1221\n",
       "                }\n",
       "            ],\n",
       "            \"roam\": true,\n",
       "            \"aspectScale\": 0.75,\n",
       "            \"nameProperty\": \"name\",\n",
       "            \"selectedMode\": false,\n",
       "            \"zoom\": 1,\n",
       "            \"mapValueCalculation\": \"sum\",\n",
       "            \"showLegendSymbol\": true,\n",
       "            \"emphasis\": {}\n",
       "        }\n",
       "    ],\n",
       "    \"legend\": [\n",
       "        {\n",
       "            \"data\": [\n",
       "                \"\"\n",
       "            ],\n",
       "            \"selected\": {\n",
       "                \"\": true\n",
       "            },\n",
       "            \"show\": true,\n",
       "            \"padding\": 5,\n",
       "            \"itemGap\": 10,\n",
       "            \"itemWidth\": 25,\n",
       "            \"itemHeight\": 14\n",
       "        }\n",
       "    ],\n",
       "    \"tooltip\": {\n",
       "        \"show\": true,\n",
       "        \"trigger\": \"item\",\n",
       "        \"triggerOn\": \"mousemove|click\",\n",
       "        \"axisPointer\": {\n",
       "            \"type\": \"line\"\n",
       "        },\n",
       "        \"showContent\": true,\n",
       "        \"alwaysShowContent\": false,\n",
       "        \"showDelay\": 0,\n",
       "        \"hideDelay\": 100,\n",
       "        \"textStyle\": {\n",
       "            \"fontSize\": 14\n",
       "        },\n",
       "        \"borderWidth\": 0,\n",
       "        \"padding\": 5\n",
       "    },\n",
       "    \"title\": [\n",
       "        {\n",
       "            \"text\": \"\\u5317\\u4eac\\u5404\\u57ce\\u533a\\u4e8c\\u624b\\u623f\\u5206\\u5e03\",\n",
       "            \"padding\": 5,\n",
       "            \"itemGap\": 10\n",
       "        }\n",
       "    ],\n",
       "    \"visualMap\": {\n",
       "        \"show\": true,\n",
       "        \"type\": \"continuous\",\n",
       "        \"min\": 0,\n",
       "        \"max\": 3000,\n",
       "        \"inRange\": {\n",
       "            \"color\": [\n",
       "                \"#50a3ba\",\n",
       "                \"#eac763\",\n",
       "                \"#d94e5d\"\n",
       "            ]\n",
       "        },\n",
       "        \"calculable\": true,\n",
       "        \"inverse\": false,\n",
       "        \"splitNumber\": 5,\n",
       "        \"orient\": \"vertical\",\n",
       "        \"showLabel\": true,\n",
       "        \"itemWidth\": 20,\n",
       "        \"itemHeight\": 140,\n",
       "        \"borderWidth\": 0\n",
       "    }\n",
       "};\n",
       "        chart_21d4b5566e844bf3b182196bb5d53c9e.setOption(option_21d4b5566e844bf3b182196bb5d53c9e);\n",
       "    </script>\n",
       "</body>\n",
       "</html>\n"
      ],
      "text/plain": [
       "<pyecharts.render.display.HTML at 0x271e7dd3b80>"
      ]
     },
     "execution_count": 25,
     "metadata": {},
     "output_type": "execute_result"
    }
   ],
   "source": [
    "m.render_notebook()"
   ]
  },
  {
   "cell_type": "markdown",
   "id": "0841508f-8e22-4c05-ae3f-6dff44702ed0",
   "metadata": {},
   "source": [
    "### 各城区二手房数量 -- 平均单价"
   ]
  },
  {
   "cell_type": "code",
   "execution_count": 26,
   "id": "856e7de6-79f6-44fa-acd2-7eb7e476aaba",
   "metadata": {},
   "outputs": [
    {
     "data": {
      "text/plain": [
       "市区\n",
       "东城     851.425245\n",
       "丰台     525.103591\n",
       "大兴     460.469693\n",
       "密云     425.333333\n",
       "平谷     308.658537\n",
       "延庆     549.876333\n",
       "怀柔     785.200000\n",
       "房山     360.611859\n",
       "昌平     469.230345\n",
       "朝阳     757.320148\n",
       "海淀     827.740194\n",
       "石景山    468.926757\n",
       "西城     828.909202\n",
       "通州     455.107553\n",
       "门头沟    388.054032\n",
       "顺义     558.339885\n",
       "Name: 价格(万元), dtype: float64"
      ]
     },
     "execution_count": 26,
     "metadata": {},
     "output_type": "execute_result"
    }
   ],
   "source": [
    "df_price = g.mean()['价格(万元)']\n",
    "df_price"
   ]
  }
 ],
 "metadata": {
  "kernelspec": {
   "display_name": "Python 3 (ipykernel)",
   "language": "python",
   "name": "python3"
  },
  "language_info": {
   "codemirror_mode": {
    "name": "ipython",
    "version": 3
   },
   "file_extension": ".py",
   "mimetype": "text/x-python",
   "name": "python",
   "nbconvert_exporter": "python",
   "pygments_lexer": "ipython3",
   "version": "3.9.7"
  }
 },
 "nbformat": 4,
 "nbformat_minor": 5
}
