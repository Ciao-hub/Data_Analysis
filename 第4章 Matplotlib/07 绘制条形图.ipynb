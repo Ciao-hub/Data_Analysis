{
 "cells": [
  {
   "cell_type": "code",
   "execution_count": 1,
   "id": "c64a7306",
   "metadata": {},
   "outputs": [],
   "source": [
    "%run py_import.py"
   ]
  },
  {
   "cell_type": "code",
   "execution_count": 2,
   "id": "e7523153",
   "metadata": {},
   "outputs": [],
   "source": [
    "from matplotlib import font_manager\n",
    "font = font_manager.FontProperties(fname = r'C:\\Windows\\Fonts\\msyh.ttc', size = 10)"
   ]
  },
  {
   "cell_type": "markdown",
   "id": "bd0c5c79",
   "metadata": {},
   "source": [
    "**条形图**"
   ]
  },
  {
   "cell_type": "code",
   "execution_count": 3,
   "id": "a546783f",
   "metadata": {},
   "outputs": [
    {
     "data": {
      "text/plain": [
       "([<matplotlib.axis.YTick at 0x2434fba0850>,\n",
       "  <matplotlib.axis.YTick at 0x2434fba0430>,\n",
       "  <matplotlib.axis.YTick at 0x2434fb94250>,\n",
       "  <matplotlib.axis.YTick at 0x2435028fee0>,\n",
       "  <matplotlib.axis.YTick at 0x24350297430>,\n",
       "  <matplotlib.axis.YTick at 0x24350297940>,\n",
       "  <matplotlib.axis.YTick at 0x2435028f520>,\n",
       "  <matplotlib.axis.YTick at 0x243502885b0>,\n",
       "  <matplotlib.axis.YTick at 0x24350297160>],\n",
       " [Text(0, 0, '0亿'),\n",
       "  Text(0, 5, '5亿'),\n",
       "  Text(0, 10, '10亿'),\n",
       "  Text(0, 15, '15亿'),\n",
       "  Text(0, 20, '20亿'),\n",
       "  Text(0, 25, '25亿'),\n",
       "  Text(0, 30, '30亿'),\n",
       "  Text(0, 35, '35亿'),\n",
       "  Text(0, 40, '40亿')])"
      ]
     },
     "execution_count": 3,
     "metadata": {},
     "output_type": "execute_result"
    },
    {
     "data": {
      "image/png": "[encoded data removed]",
      "text/plain": [
       "<Figure size 720x360 with 1 Axes>"
      ]
     },
     "metadata": {
      "needs_background": "light"
     },
     "output_type": "display_data"
    }
   ],
   "source": [
    "movies = {\n",
    "    \"流浪地球\":40.78,\n",
    "    \"飞驰人生\":15.77,\n",
    "    \"疯狂的外星人\":20.83,\n",
    "    \"新喜剧之王\":6.10,\n",
    "    \"廉政风云\":1.10,\n",
    "    \"神探蒲松龄\":1.49,\n",
    "    \"小猪佩奇过大年\":1.22,\n",
    "    \"熊出没\":6.71\n",
    "}\n",
    "x = list(movies.keys())\n",
    "y = list(movies.values())\n",
    "plt.figure(figsize = (10,5))\n",
    "\n",
    "# plt.bar(x,y,width = 0.8,bottom = 10,color = 'b')\n",
    "plt.bar(x,y)\n",
    "plt.xticks(fontproperties = font)\n",
    "plt.yticks(range(0,45,5),[\"%d亿\"%x for x in range(0,45,5)],fontproperties = font)"
   ]
  },
  {
   "cell_type": "markdown",
   "id": "f1ae8e16",
   "metadata": {},
   "source": [
    "**横向条形图**"
   ]
  },
  {
   "cell_type": "code",
   "execution_count": 4,
   "id": "9974b73e",
   "metadata": {},
   "outputs": [
    {
     "data": {
      "text/plain": [
       "([0, 1, 2, 3, 4, 5, 6, 7],\n",
       " [Text(0, 0, ''),\n",
       "  Text(0, 0, ''),\n",
       "  Text(0, 0, ''),\n",
       "  Text(0, 0, ''),\n",
       "  Text(0, 0, ''),\n",
       "  Text(0, 0, ''),\n",
       "  Text(0, 0, ''),\n",
       "  Text(0, 0, '')])"
      ]
     },
     "execution_count": 4,
     "metadata": {},
     "output_type": "execute_result"
    },
    {
     "data": {
      "image/png": "[encoded data removed]",
      "text/plain": [
       "<Figure size 432x288 with 1 Axes>"
      ]
     },
     "metadata": {
      "needs_background": "light"
     },
     "output_type": "display_data"
    }
   ],
   "source": [
    "plt.barh(list(movies.keys()),list(movies.values()))\n",
    "plt.yticks(fontproperties = font)"
   ]
  },
  {
   "cell_type": "markdown",
   "id": "6e48b07c",
   "metadata": {},
   "source": [
    "**分组条形图**"
   ]
  },
  {
   "cell_type": "code",
   "execution_count": 5,
   "id": "421caa2a",
   "metadata": {},
   "outputs": [
    {
     "data": {
      "text/html": [
       "<div>\n",
       "<style scoped>\n",
       "    .dataframe tbody tr th:only-of-type {\n",
       "        vertical-align: middle;\n",
       "    }\n",
       "\n",
       "    .dataframe tbody tr th {\n",
       "        vertical-align: top;\n",
       "    }\n",
       "\n",
       "    .dataframe thead th {\n",
       "        text-align: right;\n",
       "    }\n",
       "</style>\n",
       "<table border=\"1\" class=\"dataframe\">\n",
       "  <thead>\n",
       "    <tr style=\"text-align: right;\">\n",
       "      <th></th>\n",
       "      <th>流浪地球</th>\n",
       "      <th>飞驰人生</th>\n",
       "      <th>疯狂的外星人</th>\n",
       "      <th>新喜剧之王</th>\n",
       "      <th>廉政风云</th>\n",
       "      <th>神探蒲松龄</th>\n",
       "      <th>小猪佩奇过大年</th>\n",
       "      <th>熊出没·原始时代</th>\n",
       "    </tr>\n",
       "  </thead>\n",
       "  <tbody>\n",
       "    <tr>\n",
       "      <th>0</th>\n",
       "      <td>2.01</td>\n",
       "      <td>3.19</td>\n",
       "      <td>4.07</td>\n",
       "      <td>2.72</td>\n",
       "      <td>0.56</td>\n",
       "      <td>0.66</td>\n",
       "      <td>0.58</td>\n",
       "      <td>1.13</td>\n",
       "    </tr>\n",
       "    <tr>\n",
       "      <th>1</th>\n",
       "      <td>4.59</td>\n",
       "      <td>5.08</td>\n",
       "      <td>6.92</td>\n",
       "      <td>3.79</td>\n",
       "      <td>0.74</td>\n",
       "      <td>0.95</td>\n",
       "      <td>0.81</td>\n",
       "      <td>1.96</td>\n",
       "    </tr>\n",
       "    <tr>\n",
       "      <th>2</th>\n",
       "      <td>7.99</td>\n",
       "      <td>6.73</td>\n",
       "      <td>9.30</td>\n",
       "      <td>4.45</td>\n",
       "      <td>0.83</td>\n",
       "      <td>1.10</td>\n",
       "      <td>0.94</td>\n",
       "      <td>2.73</td>\n",
       "    </tr>\n",
       "    <tr>\n",
       "      <th>3</th>\n",
       "      <td>11.83</td>\n",
       "      <td>8.10</td>\n",
       "      <td>11.29</td>\n",
       "      <td>4.83</td>\n",
       "      <td>0.88</td>\n",
       "      <td>1.17</td>\n",
       "      <td>1.01</td>\n",
       "      <td>3.42</td>\n",
       "    </tr>\n",
       "    <tr>\n",
       "      <th>4</th>\n",
       "      <td>16.00</td>\n",
       "      <td>9.35</td>\n",
       "      <td>13.03</td>\n",
       "      <td>5.11</td>\n",
       "      <td>0.92</td>\n",
       "      <td>1.23</td>\n",
       "      <td>1.07</td>\n",
       "      <td>4.05</td>\n",
       "    </tr>\n",
       "  </tbody>\n",
       "</table>\n",
       "</div>"
      ],
      "text/plain": [
       "    流浪地球  飞驰人生  疯狂的外星人  新喜剧之王  廉政风云  神探蒲松龄  小猪佩奇过大年  熊出没·原始时代\n",
       "0   2.01  3.19    4.07   2.72  0.56   0.66     0.58      1.13\n",
       "1   4.59  5.08    6.92   3.79  0.74   0.95     0.81      1.96\n",
       "2   7.99  6.73    9.30   4.45  0.83   1.10     0.94      2.73\n",
       "3  11.83  8.10   11.29   4.83  0.88   1.17     1.01      3.42\n",
       "4  16.00  9.35   13.03   5.11  0.92   1.23     1.07      4.05"
      ]
     },
     "execution_count": 5,
     "metadata": {},
     "output_type": "execute_result"
    }
   ],
   "source": [
    "movies = {\n",
    "    \"流浪地球\":[2.01,4.59,7.99,11.83,16],\n",
    "    \"飞驰人生\":[3.19,5.08,6.73,8.10,9.35],\n",
    "    \"疯狂的外星人\":[4.07,6.92,9.30,11.29,13.03],\n",
    "    \"新喜剧之王\":[2.72,3.79,4.45,4.83,5.11],\n",
    "    \"廉政风云\":[0.56,0.74,0.83,0.88,0.92],\n",
    "    \"神探蒲松龄\":[0.66,0.95,1.10,1.17,1.23],\n",
    "    \"小猪佩奇过大年\":[0.58,0.81,0.94,1.01,1.07],\n",
    "    \"熊出没·原始时代\":[1.13,1.96,2.73,3.42,4.05]\n",
    "}\n",
    "movie_df = pd.DataFrame(movies)  # 转换为DataFrame\n",
    "movie_df"
   ]
  },
  {
   "cell_type": "code",
   "execution_count": 6,
   "id": "37f25511",
   "metadata": {},
   "outputs": [],
   "source": [
    "# for index in movie_df.index:\n",
    "#     series = movie_df.iloc[index]\n",
    "#     plt.style.use('seaborn')\n",
    "# #     print(series)\n",
    "#     plt.bar(series.index,series.values)\n",
    "#     plt.xticks(fontproperties = font)"
   ]
  },
  {
   "cell_type": "code",
   "execution_count": 14,
   "id": "f5bf33a1",
   "metadata": {},
   "outputs": [
    {
     "data": {
      "image/png": "[encoded data removed]",
      "text/plain": [
       "<Figure size 1080x360 with 1 Axes>"
      ]
     },
     "metadata": {
      "needs_background": "light"
     },
     "output_type": "display_data"
    }
   ],
   "source": [
    "plt.figure(figsize = (15,5))\n",
    "xticks = np.arange(len(movies))\n",
    "bar_width = 0.15\n",
    "# plt.bar(xticks - 2 * bar_width,movie_df.iloc[0],width = bar_width)\n",
    "# plt.bar(xticks - bar_width,movie_df.iloc[1],width = bar_width)\n",
    "# plt.bar(xticks,movie_df.iloc[2],width = bar_width)\n",
    "# plt.bar(xticks + bar_width,movie_df.iloc[3],width = bar_width)\n",
    "# plt.bar(xticks + 2 * bar_width,movie_df.iloc[4],width = bar_width)\n",
    "for index in movie_df.index:\n",
    "    plt.bar(xticks+(-2+index)*bar_width,movie_df.iloc[index],width = bar_width,\n",
    "            label = \"第%d天票房\"%(index+1))\n",
    "plt.xticks(xticks,movie_df.columns,fontproperties = font,size = 10)\n",
    "plt.legend(prop = font)  # 添加图例\n",
    "plt.grid()  # 添加网格线\n",
    "plt.show()"
   ]
  },
  {
   "cell_type": "markdown",
   "id": "13bf3633",
   "metadata": {},
   "source": [
    "**堆积条形图**"
   ]
  },
  {
   "cell_type": "code",
   "execution_count": 17,
   "id": "f20715ce",
   "metadata": {},
   "outputs": [
    {
     "data": {
      "text/plain": [
       "<matplotlib.legend.Legend at 0x24352429790>"
      ]
     },
     "execution_count": 17,
     "metadata": {},
     "output_type": "execute_result"
    },
    {
     "data": {
      "image/png": "[encoded data removed]",
      "text/plain": [
       "<Figure size 432x288 with 1 Axes>"
      ]
     },
     "metadata": {
      "needs_background": "light"
     },
     "output_type": "display_data"
    }
   ],
   "source": [
    "menMeans = (20, 35, 30, 35, 27)\n",
    "womenMeans = (25, 32, 34, 20, 25)\n",
    "groupNames = ('G1','G2','G3','G4','G5')\n",
    "plt.bar(groupNames,menMeans,label = \"男性得分\")\n",
    "plt.bar(groupNames,womenMeans,bottom = menMeans,label = \"女性得分\")\n",
    "plt.legend(prop = font)"
   ]
  },
  {
   "cell_type": "markdown",
   "id": "d46a8569",
   "metadata": {},
   "source": [
    "### 笔记：\n",
    "1. 绘制条形图用的是plt.bar方法。这个方法有很多参数：\n",
    "    * x：x轴上坐标，列表/数组/字符串\n",
    "    * y：y轴上坐标，列表/数组/字符串\n",
    "    * data：如果传递了data，那么x和y就可以为为data中的key。比如data是一个DataFrame对象，那么x和y就是DataFrame某个列的名字。\n",
    "2. 官方文档：https://matplotlib.org/stable/api/_as_gen/matplotlib.pyplot.bar.html\n",
    "3. 横向条形图：plt.barh。y代表之前plt.bar的x，width代表bar的height\n",
    "4. 分组条形图：matplotlib并没有提供专门分组条形图的API来实现，而是需要设置坐标来实现。绘制的规则：一次性绘制所有电影的第1天数据，第2天数据......，然后找到归来吧，把这个条形图的位置算好。\n",
    "5. 堆叠条形图：matplotlib并没有提供专门堆叠条形图的API来实现，我们绘制往上堆叠的数据时，可以使用bottom参数，来往上偏移指定距离，就可以实现堆叠效果。"
   ]
  }
 ],
 "metadata": {
  "kernelspec": {
   "display_name": "Python 3",
   "language": "python",
   "name": "python3"
  },
  "language_info": {
   "codemirror_mode": {
    "name": "ipython",
    "version": 3
   },
   "file_extension": ".py",
   "mimetype": "text/x-python",
   "name": "python",
   "nbconvert_exporter": "python",
   "pygments_lexer": "ipython3",
   "version": "3.8.8"
  }
 },
 "nbformat": 4,
 "nbformat_minor": 5
}
