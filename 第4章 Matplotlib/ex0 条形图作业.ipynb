{
 "cells": [
  {
   "cell_type": "code",
   "execution_count": 1,
   "id": "96896047",
   "metadata": {},
   "outputs": [],
   "source": [
    "%run py_import.py"
   ]
  },
  {
   "cell_type": "code",
   "execution_count": 12,
   "id": "1979e01a",
   "metadata": {},
   "outputs": [
    {
     "data": {
      "text/html": [
       "<div>\n",
       "<style scoped>\n",
       "    .dataframe tbody tr th:only-of-type {\n",
       "        vertical-align: middle;\n",
       "    }\n",
       "\n",
       "    .dataframe tbody tr th {\n",
       "        vertical-align: top;\n",
       "    }\n",
       "\n",
       "    .dataframe thead th {\n",
       "        text-align: right;\n",
       "    }\n",
       "</style>\n",
       "<table border=\"1\" class=\"dataframe\">\n",
       "  <thead>\n",
       "    <tr style=\"text-align: right;\">\n",
       "      <th></th>\n",
       "      <th>普通本科</th>\n",
       "      <th>中等职业教育</th>\n",
       "      <th>普通高中</th>\n",
       "    </tr>\n",
       "  </thead>\n",
       "  <tbody>\n",
       "    <tr>\n",
       "      <th>0</th>\n",
       "      <td>721</td>\n",
       "      <td>620</td>\n",
       "      <td>797</td>\n",
       "    </tr>\n",
       "    <tr>\n",
       "      <th>1</th>\n",
       "      <td>738</td>\n",
       "      <td>601</td>\n",
       "      <td>797</td>\n",
       "    </tr>\n",
       "    <tr>\n",
       "      <th>2</th>\n",
       "      <td>749</td>\n",
       "      <td>593</td>\n",
       "      <td>803</td>\n",
       "    </tr>\n",
       "    <tr>\n",
       "      <th>3</th>\n",
       "      <td>761</td>\n",
       "      <td>582</td>\n",
       "      <td>800</td>\n",
       "    </tr>\n",
       "    <tr>\n",
       "      <th>4</th>\n",
       "      <td>791</td>\n",
       "      <td>557</td>\n",
       "      <td>793</td>\n",
       "    </tr>\n",
       "  </tbody>\n",
       "</table>\n",
       "</div>"
      ],
      "text/plain": [
       "   普通本科  中等职业教育  普通高中\n",
       "0   721     620   797\n",
       "1   738     601   797\n",
       "2   749     593   803\n",
       "3   761     582   800\n",
       "4   791     557   793"
      ]
     },
     "execution_count": 12,
     "metadata": {},
     "output_type": "execute_result"
    }
   ],
   "source": [
    "data = {\n",
    "    \"普通本科\":[721,738,749,761,791],\n",
    "    \"中等职业教育\": [620,601,593,582,557],\n",
    "    \"普通高中\": [797,797,803,800,793]\n",
    "}\n",
    "df = pd.DataFrame(data)\n",
    "df"
   ]
  },
  {
   "cell_type": "markdown",
   "id": "a8cd1e1a",
   "metadata": {},
   "source": [
    "**enumerate函数用法**"
   ]
  },
  {
   "cell_type": "code",
   "execution_count": 3,
   "id": "d76606e8",
   "metadata": {},
   "outputs": [
    {
     "name": "stdout",
     "output_type": "stream",
     "text": [
      "0 one\n",
      "1 two\n",
      "2 three\n"
     ]
    }
   ],
   "source": [
    "seq = ['one','two','three']\n",
    "for i,element in enumerate(seq):\n",
    "    print(i,element)"
   ]
  },
  {
   "cell_type": "code",
   "execution_count": 10,
   "id": "5e98c6ea",
   "metadata": {},
   "outputs": [
    {
     "data": {
      "text/plain": [
       "<matplotlib.legend.Legend at 0x2e78ffb7cd0>"
      ]
     },
     "execution_count": 10,
     "metadata": {},
     "output_type": "execute_result"
    },
    {
     "data": {
      "image/png": "[encoded data removed]",
      "text/plain": [
       "<Figure size 1080x360 with 1 Axes>"
      ]
     },
     "metadata": {
      "needs_background": "light"
     },
     "output_type": "display_data"
    }
   ],
   "source": [
    "plt.figure(figsize = (15,5))    # 图的大小\n",
    "bar_width = 0.2    # x轴的刻度\n",
    "xticks = np.arange(2014,2019)    # 循环列，按照年份绘制\n",
    "# print(xticks)\n",
    "for index,column in enumerate(df.columns):\n",
    "    values = df[column]\n",
    "#     print(values)\n",
    "    c_xticks = xticks + bar_width * (index - 1)\n",
    "    plt.bar(c_xticks, values, width=bar_width, label=column)\n",
    "    for x,y in zip(c_xticks,values):\n",
    "        plt.annotate(y,xy=(x,y),xytext=(x-0.05,y+10))\n",
    "plt.ylim(top = 1000)\n",
    "plt.ylabel(\"万人\",fontproperties=font)\n",
    "plt.legend(prop = font)"
   ]
  }
 ],
 "metadata": {
  "kernelspec": {
   "display_name": "Python 3",
   "language": "python",
   "name": "python3"
  },
  "language_info": {
   "codemirror_mode": {
    "name": "ipython",
    "version": 3
   },
   "file_extension": ".py",
   "mimetype": "text/x-python",
   "name": "python",
   "nbconvert_exporter": "python",
   "pygments_lexer": "ipython3",
   "version": "3.8.8"
  }
 },
 "nbformat": 4,
 "nbformat_minor": 5
}
